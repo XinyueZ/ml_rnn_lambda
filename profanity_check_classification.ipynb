{
  "nbformat": 4,
  "nbformat_minor": 0,
  "metadata": {
    "language_info": {
      "codemirror_mode": {
        "name": "ipython",
        "version": 3
      },
      "file_extension": ".py",
      "mimetype": "text/x-python",
      "name": "python",
      "nbconvert_exporter": "python",
      "pygments_lexer": "ipython3",
      "version": "3.8.2-final"
    },
    "orig_nbformat": 2,
    "kernelspec": {
      "name": "python3",
      "display_name": "Python 3",
      "language": "python"
    },
    "colab": {
      "name": "profanity_check_classification.ipynb",
      "provenance": [],
      "collapsed_sections": [],
      "machine_shape": "hm"
    },
    "accelerator": "GPU"
  },
  "cells": [
    {
      "cell_type": "markdown",
      "metadata": {
        "id": "uePUI0owzPqD"
      },
      "source": [
        "# Check the sentence profanity classification\n",
        "\n",
        "\n",
        "\n",
        "|  hate speech  | offensive language  |  neither |  \n",
        "|---|---|---| \n",
        "| 0  |  1 |  2 |  "
      ]
    },
    {
      "cell_type": "code",
      "metadata": {
        "id": "rDFFmSIQzPqG"
      },
      "source": [
        "import tensorflow as tf\n",
        "import numpy as np\n",
        "import pandas as pd\n",
        "import itertools\n",
        "import re\n",
        "import os\n",
        "import math\n",
        "import pprint as pp\n"
      ],
      "execution_count": null,
      "outputs": []
    },
    {
      "cell_type": "markdown",
      "metadata": {
        "id": "hHAJOzYMzPqG"
      },
      "source": [
        "# Data "
      ]
    },
    {
      "cell_type": "markdown",
      "metadata": {
        "id": "VKdTV0qszPqG"
      },
      "source": [
        "## Download data"
      ]
    },
    {
      "cell_type": "code",
      "metadata": {
        "id": "sP84s-E4zPqG",
        "colab": {
          "base_uri": "https://localhost:8080/"
        },
        "outputId": "4edd215f-6f51-430d-d95a-6e818fa1ea24"
      },
      "source": [
        "URL = \"https://dl.dropbox.com/s/ewpit86gekpiwk5/hate_dirty_peech_labeled_data.tsv\"\n",
        "path = tf.keras.utils.get_file(URL.split('/')[-1], URL)\n",
        "data = pd.read_csv(path, sep=\"\\t\")\n"
      ],
      "execution_count": null,
      "outputs": [
        {
          "output_type": "stream",
          "text": [
            "Downloading data from https://dl.dropbox.com/s/ewpit86gekpiwk5/hate_dirty_peech_labeled_data.tsv\n",
            "2555904/2552512 [==============================] - 0s 0us/step\n"
          ],
          "name": "stdout"
        }
      ]
    },
    {
      "cell_type": "markdown",
      "metadata": {
        "id": "rmQwuSjfzPqG"
      },
      "source": [
        "## Shuffle data"
      ]
    },
    {
      "cell_type": "code",
      "metadata": {
        "colab": {
          "base_uri": "https://localhost:8080/",
          "height": 302
        },
        "id": "lPIuKe19zPqH",
        "outputId": "185fc213-cc82-4665-adac-4ac60995e3d1"
      },
      "source": [
        "data = data.sample(frac=1)\n",
        "data.head()\n"
      ],
      "execution_count": null,
      "outputs": [
        {
          "output_type": "execute_result",
          "data": {
            "text/html": [
              "<div>\n",
              "<style scoped>\n",
              "    .dataframe tbody tr th:only-of-type {\n",
              "        vertical-align: middle;\n",
              "    }\n",
              "\n",
              "    .dataframe tbody tr th {\n",
              "        vertical-align: top;\n",
              "    }\n",
              "\n",
              "    .dataframe thead th {\n",
              "        text-align: right;\n",
              "    }\n",
              "</style>\n",
              "<table border=\"1\" class=\"dataframe\">\n",
              "  <thead>\n",
              "    <tr style=\"text-align: right;\">\n",
              "      <th></th>\n",
              "      <th>Unnamed: 0</th>\n",
              "      <th>count</th>\n",
              "      <th>hate_speech</th>\n",
              "      <th>offensive_language</th>\n",
              "      <th>neither</th>\n",
              "      <th>class</th>\n",
              "      <th>tweet</th>\n",
              "    </tr>\n",
              "  </thead>\n",
              "  <tbody>\n",
              "    <tr>\n",
              "      <th>14547</th>\n",
              "      <td>14903</td>\n",
              "      <td>3</td>\n",
              "      <td>0</td>\n",
              "      <td>3</td>\n",
              "      <td>0</td>\n",
              "      <td>1</td>\n",
              "      <td>RT @CHlLDHOODRUINER: 1000 rts and he'll spark ...</td>\n",
              "    </tr>\n",
              "    <tr>\n",
              "      <th>22994</th>\n",
              "      <td>23482</td>\n",
              "      <td>6</td>\n",
              "      <td>0</td>\n",
              "      <td>6</td>\n",
              "      <td>0</td>\n",
              "      <td>1</td>\n",
              "      <td>Wowwww this bitch is so ratchet holy crap</td>\n",
              "    </tr>\n",
              "    <tr>\n",
              "      <th>19009</th>\n",
              "      <td>19440</td>\n",
              "      <td>3</td>\n",
              "      <td>0</td>\n",
              "      <td>3</td>\n",
              "      <td>0</td>\n",
              "      <td>1</td>\n",
              "      <td>RT @freckle_juice: if a \"man\" tells you he doe...</td>\n",
              "    </tr>\n",
              "    <tr>\n",
              "      <th>8808</th>\n",
              "      <td>9060</td>\n",
              "      <td>3</td>\n",
              "      <td>0</td>\n",
              "      <td>3</td>\n",
              "      <td>0</td>\n",
              "      <td>1</td>\n",
              "      <td>Don't no nigga want an artificial bitch ... Le...</td>\n",
              "    </tr>\n",
              "    <tr>\n",
              "      <th>5796</th>\n",
              "      <td>5968</td>\n",
              "      <td>3</td>\n",
              "      <td>0</td>\n",
              "      <td>3</td>\n",
              "      <td>0</td>\n",
              "      <td>1</td>\n",
              "      <td>@danikawillow don't be a pussy. Also there is ...</td>\n",
              "    </tr>\n",
              "  </tbody>\n",
              "</table>\n",
              "</div>"
            ],
            "text/plain": [
              "       Unnamed: 0  ...                                              tweet\n",
              "14547       14903  ...  RT @CHlLDHOODRUINER: 1000 rts and he'll spark ...\n",
              "22994       23482  ...          Wowwww this bitch is so ratchet holy crap\n",
              "19009       19440  ...  RT @freckle_juice: if a \"man\" tells you he doe...\n",
              "8808         9060  ...  Don't no nigga want an artificial bitch ... Le...\n",
              "5796         5968  ...  @danikawillow don't be a pussy. Also there is ...\n",
              "\n",
              "[5 rows x 7 columns]"
            ]
          },
          "metadata": {
            "tags": []
          },
          "execution_count": 3
        }
      ]
    },
    {
      "cell_type": "markdown",
      "metadata": {
        "id": "pSGieyw2zPqH"
      },
      "source": [
        "## Clean data"
      ]
    },
    {
      "cell_type": "code",
      "metadata": {
        "colab": {
          "base_uri": "https://localhost:8080/",
          "height": 407
        },
        "id": "QPcAM7jnzPqH",
        "outputId": "fca9cba6-5545-4c98-e144-1f3c8b53c3ab"
      },
      "source": [
        "data = data[pd.notnull(data['class'])]\n",
        "data = data[pd.notnull(data['tweet'])]\n",
        "data = data.drop(data.columns[0], axis=1) \n",
        "data = data.drop(columns=['count', 'hate_speech', 'offensive_language', 'neither']) \n",
        " \n",
        "data[\"tweet\"] = data[\"tweet\"].apply(lambda elem: re.sub(r\"(@[A-Za-z0-9]+)|([^0-9A-Za-z \\t])|(\\w+:\\/\\/\\S+)|^rt|http.+?\", \"\", elem)) \n",
        "\n",
        "data[\"label\"] = data[\"class\"]\n",
        "\n",
        "# class = class label for majority of CF users. 0 - hate speech 1 - offensive language 2 - neither\n",
        "data['class'].astype(str)\n",
        "data = data.replace({'class': {0: \"hate speech\", 1: \"offensive language\", 2: \"neither\"}})\n",
        "\n",
        "# Print the first first five rows as default\n",
        "data.head(150)\n"
      ],
      "execution_count": null,
      "outputs": [
        {
          "output_type": "execute_result",
          "data": {
            "text/html": [
              "<div>\n",
              "<style scoped>\n",
              "    .dataframe tbody tr th:only-of-type {\n",
              "        vertical-align: middle;\n",
              "    }\n",
              "\n",
              "    .dataframe tbody tr th {\n",
              "        vertical-align: top;\n",
              "    }\n",
              "\n",
              "    .dataframe thead th {\n",
              "        text-align: right;\n",
              "    }\n",
              "</style>\n",
              "<table border=\"1\" class=\"dataframe\">\n",
              "  <thead>\n",
              "    <tr style=\"text-align: right;\">\n",
              "      <th></th>\n",
              "      <th>class</th>\n",
              "      <th>tweet</th>\n",
              "      <th>label</th>\n",
              "    </tr>\n",
              "  </thead>\n",
              "  <tbody>\n",
              "    <tr>\n",
              "      <th>14547</th>\n",
              "      <td>offensive language</td>\n",
              "      <td>RT  1000 rts and hell spark this hoe in here</td>\n",
              "      <td>1</td>\n",
              "    </tr>\n",
              "    <tr>\n",
              "      <th>22994</th>\n",
              "      <td>offensive language</td>\n",
              "      <td>Wowwww this bitch is so ratchet holy crap</td>\n",
              "      <td>1</td>\n",
              "    </tr>\n",
              "    <tr>\n",
              "      <th>19009</th>\n",
              "      <td>offensive language</td>\n",
              "      <td>RT juice if a man tells you he doesnt eat puss...</td>\n",
              "      <td>1</td>\n",
              "    </tr>\n",
              "    <tr>\n",
              "      <th>8808</th>\n",
              "      <td>offensive language</td>\n",
              "      <td>Dont no nigga want an artificial bitch  Let me...</td>\n",
              "      <td>1</td>\n",
              "    </tr>\n",
              "    <tr>\n",
              "      <th>5796</th>\n",
              "      <td>offensive language</td>\n",
              "      <td>dont be a pussy Also there is beer AND FREE P...</td>\n",
              "      <td>1</td>\n",
              "    </tr>\n",
              "    <tr>\n",
              "      <th>...</th>\n",
              "      <td>...</td>\n",
              "      <td>...</td>\n",
              "      <td>...</td>\n",
              "    </tr>\n",
              "    <tr>\n",
              "      <th>5631</th>\n",
              "      <td>offensive language</td>\n",
              "      <td>128557128557128557128557128557 how u kno im t...</td>\n",
              "      <td>1</td>\n",
              "    </tr>\n",
              "    <tr>\n",
              "      <th>21530</th>\n",
              "      <td>neither</td>\n",
              "      <td>The brownies I just made are a sin</td>\n",
              "      <td>2</td>\n",
              "    </tr>\n",
              "    <tr>\n",
              "      <th>8934</th>\n",
              "      <td>hate speech</td>\n",
              "      <td>Elizabeth is astupid hoe</td>\n",
              "      <td>0</td>\n",
              "    </tr>\n",
              "    <tr>\n",
              "      <th>21862</th>\n",
              "      <td>offensive language</td>\n",
              "      <td>They hardly get sexso when the opportunity of ...</td>\n",
              "      <td>1</td>\n",
              "    </tr>\n",
              "    <tr>\n",
              "      <th>17339</th>\n",
              "      <td>offensive language</td>\n",
              "      <td>RT  bitches say or nah with everything Im cute...</td>\n",
              "      <td>1</td>\n",
              "    </tr>\n",
              "  </tbody>\n",
              "</table>\n",
              "<p>150 rows × 3 columns</p>\n",
              "</div>"
            ],
            "text/plain": [
              "                    class  ... label\n",
              "14547  offensive language  ...     1\n",
              "22994  offensive language  ...     1\n",
              "19009  offensive language  ...     1\n",
              "8808   offensive language  ...     1\n",
              "5796   offensive language  ...     1\n",
              "...                   ...  ...   ...\n",
              "5631   offensive language  ...     1\n",
              "21530             neither  ...     2\n",
              "8934          hate speech  ...     0\n",
              "21862  offensive language  ...     1\n",
              "17339  offensive language  ...     1\n",
              "\n",
              "[150 rows x 3 columns]"
            ]
          },
          "metadata": {
            "tags": []
          },
          "execution_count": 4
        }
      ]
    },
    {
      "cell_type": "markdown",
      "metadata": {
        "id": "5j4_DcNtzPqH"
      },
      "source": [
        "# Create texts and labels"
      ]
    },
    {
      "cell_type": "markdown",
      "metadata": {
        "id": "xyS1ICeRzPqH"
      },
      "source": [
        "## Create labels"
      ]
    },
    {
      "cell_type": "code",
      "metadata": {
        "colab": {
          "base_uri": "https://localhost:8080/"
        },
        "id": "doxHcFgFzPqI",
        "outputId": "a21b7c92-60dc-43fd-8447-b282e06d0ccd"
      },
      "source": [
        "labels = data[\"label\"].to_list()\n",
        "print(labels[:10])\n"
      ],
      "execution_count": null,
      "outputs": [
        {
          "output_type": "stream",
          "text": [
            "[1, 1, 1, 1, 1, 2, 1, 1, 1, 1]\n"
          ],
          "name": "stdout"
        }
      ]
    },
    {
      "cell_type": "code",
      "metadata": {
        "colab": {
          "base_uri": "https://localhost:8080/"
        },
        "id": "UjjUdYTmzPqI",
        "outputId": "69454971-9f8e-4770-d2cd-3a748c953ed4"
      },
      "source": [
        "label_count = len(set(labels))\n",
        "print(label_count)\n"
      ],
      "execution_count": null,
      "outputs": [
        {
          "output_type": "stream",
          "text": [
            "3\n"
          ],
          "name": "stdout"
        }
      ]
    },
    {
      "cell_type": "markdown",
      "metadata": {
        "id": "I9iK9p2CzPqI"
      },
      "source": [
        "### Create texts sequences"
      ]
    },
    {
      "cell_type": "code",
      "metadata": {
        "colab": {
          "base_uri": "https://localhost:8080/"
        },
        "id": "VNYMcdCfzPqI",
        "outputId": "745edc9a-7485-4894-b847-e0db3a5cf0c6"
      },
      "source": [
        "texts = data[\"tweet\"].to_numpy()\n",
        "type(texts)\n",
        "print(texts[:10])\n"
      ],
      "execution_count": null,
      "outputs": [
        {
          "output_type": "stream",
          "text": [
            "['RT  1000 rts and hell spark this hoe in here '\n",
            " 'Wowwww this bitch is so ratchet holy crap'\n",
            " 'RT juice if a man tells you he doesnt eat pussy ampexpects to have sex just laugh laugh as u put your clothes on laugh as u g8230'\n",
            " 'Dont no nigga want an artificial bitch  Let me repeat that Not one '\n",
            " ' dont be a pussy Also there is beer AND FREE PIZZA HERE I SWEAR'\n",
            " 'Amo hangs '\n",
            " 'twotone Next year bitches is gonna be like you gotta promise you wont expose me 128514128514128557'\n",
            " 'RT  bitch built like squid ward after he ate all the Krabby Patties RT   DONT RETIRE 128553 I love you h8230'\n",
            " 'RT JSmart24 Twitter was fye when niggas used to go in on Trending Topics8230now its just recycled tweets and hoes screaming they want loy8230'\n",
            " 'RT  Lol that same bitch I was cool with was was down to sit me up in get me kill in get on twitter in talk about it']\n"
          ],
          "name": "stdout"
        }
      ]
    },
    {
      "cell_type": "code",
      "metadata": {
        "id": "bOTsMY2lzPqI"
      },
      "source": [
        "tokenizer = tf.keras.preprocessing.text.Tokenizer()\n",
        "tokenizer.fit_on_texts(texts)\n"
      ],
      "execution_count": null,
      "outputs": []
    },
    {
      "cell_type": "code",
      "metadata": {
        "colab": {
          "base_uri": "https://localhost:8080/"
        },
        "id": "RD9WyuHyzPqI",
        "outputId": "aaee2b79-ab1d-4e32-aad2-85db57f6acb9"
      },
      "source": [
        "word_index = tokenizer.word_index\n",
        "total_words = len(word_index) + 1\n",
        "print(total_words) \n"
      ],
      "execution_count": null,
      "outputs": [
        {
          "output_type": "stream",
          "text": [
            "27426\n"
          ],
          "name": "stdout"
        }
      ]
    },
    {
      "cell_type": "code",
      "metadata": {
        "colab": {
          "base_uri": "https://localhost:8080/"
        },
        "id": "0jZJabL4zPqI",
        "outputId": "4b062fe0-031c-4ea7-eeea-d4f9a50d9e30"
      },
      "source": [
        "sequences = tokenizer.texts_to_sequences(texts)\n",
        "total_sequences = len(sequences)\n",
        "print(total_sequences)\n",
        "print(sequences[:10])\n"
      ],
      "execution_count": null,
      "outputs": [
        {
          "output_type": "stream",
          "text": [
            "24776\n",
            "[[3, 2568, 3446, 8, 269, 4634, 20, 25, 11, 126], [10654, 20, 2, 13, 37, 585, 1105, 2210], [3, 1305, 32, 1, 91, 1427, 6, 60, 320, 167, 22, 10655, 7, 56, 338, 33, 822, 822, 74, 43, 185, 29, 793, 17, 822, 74, 43, 3932], [27, 41, 46, 82, 103, 10656, 2, 132, 15, 3933, 10, 47, 71], [27, 18, 1, 22, 519, 143, 13, 907, 8, 339, 1373, 126, 4, 295], [5673, 7281], [10657, 240, 293, 12, 13, 153, 18, 14, 6, 145, 2043, 6, 263, 3934, 15, 7282], [3, 2, 1492, 14, 5674, 7283, 214, 60, 674, 31, 5, 7284, 10658, 3, 27, 7285, 690, 4, 72, 6, 1566], [3, 3935, 181, 49, 10659, 39, 67, 452, 7, 79, 11, 17, 3447, 10660, 58, 33, 10661, 438, 8, 19, 1633, 38, 82, 10662], [3, 57, 10, 196, 2, 4, 49, 395, 26, 49, 49, 133, 7, 513, 15, 30, 11, 35, 15, 306, 11, 35, 17, 181, 11, 144, 59, 24]]\n"
          ],
          "name": "stdout"
        }
      ]
    },
    {
      "cell_type": "markdown",
      "metadata": {
        "id": "zzNbdEiHhn3B"
      },
      "source": [
        "#### 🍼Define max length "
      ]
    },
    {
      "cell_type": "code",
      "metadata": {
        "colab": {
          "base_uri": "https://localhost:8080/"
        },
        "id": "K1GXkrCqzPqI",
        "outputId": "0134247c-9906-4953-b7e4-4b37a5ee6681"
      },
      "source": [
        "max_len = max([len(s) for s in sequences])\n",
        "print(max_len)\n",
        "max_len =  int(max_len / 3.6)\n",
        "print(max_len)\n"
      ],
      "execution_count": null,
      "outputs": [
        {
          "output_type": "stream",
          "text": [
            "57\n",
            "15\n"
          ],
          "name": "stdout"
        }
      ]
    },
    {
      "cell_type": "markdown",
      "metadata": {
        "id": "8sWg1P0Z3yoZ"
      },
      "source": [
        "### Shift each sequence to generate more \"texts\""
      ]
    },
    {
      "cell_type": "code",
      "metadata": {
        "id": "5JugHj7s96BE"
      },
      "source": [
        "def shift_sequences(unshifted_sequences, labels):\n",
        "  shifted = []\n",
        "  i = -1\n",
        "  for seq in unshifted_sequences:\n",
        "    i = i + 1\n",
        "    length = len(seq)\n",
        "    shifted.append((seq, labels[i]))\n",
        "    if length > 3: [shifted.append((seq[:-shift], labels[i])) for shift in range(1, length-1)]  \n",
        "  return shifted\n"
      ],
      "execution_count": null,
      "outputs": []
    },
    {
      "cell_type": "code",
      "metadata": {
        "colab": {
          "base_uri": "https://localhost:8080/"
        },
        "id": "--D8dE0x-Z5P",
        "outputId": "6bc2a7bd-332d-4df3-bedf-1fa34f43563d"
      },
      "source": [
        "shifted_sequences_labels = np.array(shift_sequences(sequences, labels))\n",
        "\n",
        "sequences = shifted_sequences_labels[:,:-1][:,0]\n",
        "print(sequences[:3])\n",
        "\n",
        "labels = shifted_sequences_labels[:,-1]\n",
        "print(labels[:3])\n",
        "\n",
        "total_sequences = len(sequences)\n",
        "print(total_sequences)"
      ],
      "execution_count": null,
      "outputs": [
        {
          "output_type": "stream",
          "text": [
            "[list([3, 2568, 3446, 8, 269, 4634, 20, 25, 11, 126])\n",
            " list([3, 2568, 3446, 8, 269, 4634, 20, 25, 11])\n",
            " list([3, 2568, 3446, 8, 269, 4634, 20, 25])]\n",
            "[1 1 1]\n",
            "304862\n"
          ],
          "name": "stdout"
        },
        {
          "output_type": "stream",
          "text": [
            "/usr/local/lib/python3.7/dist-packages/ipykernel_launcher.py:1: VisibleDeprecationWarning: Creating an ndarray from ragged nested sequences (which is a list-or-tuple of lists-or-tuples-or ndarrays with different lengths or shapes) is deprecated. If you meant to do this, you must specify 'dtype=object' when creating the ndarray\n",
            "  \"\"\"Entry point for launching an IPython kernel.\n"
          ],
          "name": "stderr"
        }
      ]
    },
    {
      "cell_type": "code",
      "metadata": {
        "id": "kuMejVrAzPqJ",
        "colab": {
          "base_uri": "https://localhost:8080/"
        },
        "outputId": "1b7cf6b5-edf5-461e-f7a5-7d0bd2ef23b3"
      },
      "source": [
        "padded_sequences = tf.keras.preprocessing.sequence.pad_sequences(\n",
        "    sequences,\n",
        "    padding = \"post\",\n",
        "    maxlen = max_len\n",
        ")\n",
        "\n",
        "#padded_sequences = tf.expand_dims(padded_sequences, axis=-1)\n",
        "print(type(padded_sequences))\n",
        "print(padded_sequences[:5])\n",
        "\n",
        "labels = np.asarray(labels).astype(np.int)\n",
        "print(labels[:5])"
      ],
      "execution_count": null,
      "outputs": [
        {
          "output_type": "stream",
          "text": [
            "<class 'numpy.ndarray'>\n",
            "[[   3 2568 3446    8  269 4634   20   25   11  126    0    0    0    0\n",
            "     0]\n",
            " [   3 2568 3446    8  269 4634   20   25   11    0    0    0    0    0\n",
            "     0]\n",
            " [   3 2568 3446    8  269 4634   20   25    0    0    0    0    0    0\n",
            "     0]\n",
            " [   3 2568 3446    8  269 4634   20    0    0    0    0    0    0    0\n",
            "     0]\n",
            " [   3 2568 3446    8  269 4634    0    0    0    0    0    0    0    0\n",
            "     0]]\n",
            "[1 1 1 1 1]\n"
          ],
          "name": "stdout"
        }
      ]
    },
    {
      "cell_type": "markdown",
      "metadata": {
        "id": "FpLlIOZmzPqJ"
      },
      "source": [
        "## Divide training data and testing data"
      ]
    },
    {
      "cell_type": "markdown",
      "metadata": {
        "id": "DiLfq4poOqY1"
      },
      "source": [
        "### Training data"
      ]
    },
    {
      "cell_type": "code",
      "metadata": {
        "id": "ZFaMe88YzPqJ",
        "colab": {
          "base_uri": "https://localhost:8080/"
        },
        "outputId": "6b87d534-ad08-4864-e67f-8c6b783a4248"
      },
      "source": [
        "boundary = int(.85 * total_sequences)\n",
        "\n",
        "training_sequences = padded_sequences[:boundary]\n",
        "training_labels = labels[:boundary]\n",
        "\n",
        "print(len(training_sequences))\n",
        "print(len(training_labels))\n",
        "\n",
        "print(training_sequences[:5])\n",
        "print(training_labels[:5])\n"
      ],
      "execution_count": null,
      "outputs": [
        {
          "output_type": "stream",
          "text": [
            "259132\n",
            "259132\n",
            "[[   3 2568 3446    8  269 4634   20   25   11  126    0    0    0    0\n",
            "     0]\n",
            " [   3 2568 3446    8  269 4634   20   25   11    0    0    0    0    0\n",
            "     0]\n",
            " [   3 2568 3446    8  269 4634   20   25    0    0    0    0    0    0\n",
            "     0]\n",
            " [   3 2568 3446    8  269 4634   20    0    0    0    0    0    0    0\n",
            "     0]\n",
            " [   3 2568 3446    8  269 4634    0    0    0    0    0    0    0    0\n",
            "     0]]\n",
            "[1 1 1 1 1]\n"
          ],
          "name": "stdout"
        }
      ]
    },
    {
      "cell_type": "markdown",
      "metadata": {
        "id": "2UvmuowkOykj"
      },
      "source": [
        "### Testing data"
      ]
    },
    {
      "cell_type": "code",
      "metadata": {
        "id": "2vuvLYAazPqJ",
        "colab": {
          "base_uri": "https://localhost:8080/"
        },
        "outputId": "2f8e35bf-09c0-47f2-da38-2d74dcf8a1e6"
      },
      "source": [
        "testing_sequences = padded_sequences[boundary:]\n",
        "testing_labels = labels[boundary:]\n",
        "\n",
        "total_testing_sequences = len(testing_sequences)\n",
        "print(total_testing_sequences)\n",
        "print(len(testing_labels))\n",
        "\n",
        "print(testing_sequences[:5])\n",
        "print(testing_labels[:5])\n"
      ],
      "execution_count": null,
      "outputs": [
        {
          "output_type": "stream",
          "text": [
            "45730\n",
            "45730\n",
            "[[24911    97   154    63  3666    34    23    55   126   415    63  4953\n",
            "     26    41     2]\n",
            " [  444 24911    97   154    63  3666    34    23    55   126   415    63\n",
            "   4953    26    41]\n",
            " [ 6427   444 24911    97   154    63  3666    34    23    55   126   415\n",
            "     63  4953    26]\n",
            " [  177  6427   444 24911    97   154    63  3666    34    23    55   126\n",
            "    415    63  4953]\n",
            " [  176   177  6427   444 24911    97   154    63  3666    34    23    55\n",
            "    126   415    63]]\n",
            "[1 1 1 1 1]\n"
          ],
          "name": "stdout"
        }
      ]
    },
    {
      "cell_type": "markdown",
      "metadata": {
        "id": "ORJCAMWIzPqJ"
      },
      "source": [
        "# Machine-learning"
      ]
    },
    {
      "cell_type": "markdown",
      "metadata": {
        "id": "KXt7TgZLzPqJ"
      },
      "source": [
        "## Hyperparameters"
      ]
    },
    {
      "cell_type": "code",
      "metadata": {
        "id": "RhhHicGfzPqJ"
      },
      "source": [
        "epochs = 100\n",
        "embedding_dim = 512\n"
      ],
      "execution_count": null,
      "outputs": []
    },
    {
      "cell_type": "markdown",
      "metadata": {
        "id": "a_lSl3E5zPqK"
      },
      "source": [
        "## Utils, like output, graphic etc...."
      ]
    },
    {
      "cell_type": "markdown",
      "metadata": {
        "id": "qv14gV8kzPqK"
      },
      "source": [
        "### Table of *prediction*"
      ]
    },
    {
      "cell_type": "code",
      "metadata": {
        "id": "OLcXF9A4zPqK"
      },
      "source": [
        "import matplotlib.pyplot as plt\n",
        "\n",
        "def predict_output(texts, predicated_classes):\n",
        "    fig, ax = plt.subplots()\n",
        "    ax.axis('off')\n",
        "\n",
        "    predicated_classes = np.expand_dims(predicated_classes, axis=-1)\n",
        "\n",
        "    table = ax.table(\n",
        "             rowLabels=texts,  \n",
        "             colLabels=[\"classification\"],  \n",
        "             cellText=predicated_classes, \n",
        "             cellLoc=\"center\", \n",
        "             loc=\"center\"\n",
        "    )\n",
        "    table.scale(0.5, 1)  \n",
        "    \n",
        "    ax.set_title('0: \"hate speech\", 1: \"offensive language\", 2: \"neither\"',\n",
        "              fontweight =\"bold\")\n",
        "\n",
        "    fig.tight_layout()\n",
        "    plt.show()"
      ],
      "execution_count": null,
      "outputs": []
    },
    {
      "cell_type": "markdown",
      "metadata": {
        "id": "P0CJdCjGQMtq"
      },
      "source": [
        "### 📊Grpahic of training"
      ]
    },
    {
      "cell_type": "code",
      "metadata": {
        "id": "4KZwvigwQQco"
      },
      "source": [
        "# PLOT LOSS AND ACCURACY\n",
        "%matplotlib inline\n",
        "\n",
        "import matplotlib.image  as mpimg\n",
        "import matplotlib.pyplot as plt\n",
        "\n",
        "def plot(history, m0, m1): \n",
        "  h_m0=history.history[m0] \n",
        "  h_m1=history.history[m1] \n",
        "  epochs=range(len(h_m0))  \n",
        "  plt.plot(epochs, h_m0, 'b', m0) \n",
        "  plt.figure()  \n",
        "  plt.plot(epochs, h_m1, 'b', m1)  "
      ],
      "execution_count": null,
      "outputs": []
    },
    {
      "cell_type": "markdown",
      "metadata": {
        "id": "wvQ3lN3DzPqK"
      },
      "source": [
        "## Methods"
      ]
    },
    {
      "cell_type": "markdown",
      "metadata": {
        "id": "ZOkY2pnpsEKl"
      },
      "source": [
        "### 🎉Method of building model"
      ]
    },
    {
      "cell_type": "code",
      "metadata": {
        "id": "XOPw2Q7CsIs3"
      },
      "source": [
        "def build_model(*layers):\n",
        "    model = tf.keras.Sequential()\n",
        "    model.add(\n",
        "        tf.keras.layers.Embedding(\n",
        "            input_dim=total_words,\n",
        "            output_dim=embedding_dim,\n",
        "            input_shape=[None,]\n",
        "        ),\n",
        "    ) \n",
        "    [model.add(layer) for layer in layers]\n",
        "\n",
        "    model.add(tf.keras.layers.Dense(int(total_words),\n",
        "                                    activation=tf.keras.activations.relu))\n",
        "    model.add(tf.keras.layers.Dropout(.5))\n",
        "    model.add(tf.keras.layers.Dense(label_count, activation=tf.keras.activations.softmax))\n",
        " \n",
        "    model.compile(\n",
        "        loss=tf.keras.losses.SparseCategoricalCrossentropy(),\n",
        "        optimizer=tf.keras.optimizers.Adam(),\n",
        "        metrics=[\"accuracy\"],\n",
        "    )\n",
        "    model.summary()\n",
        "\n",
        "    return model"
      ],
      "execution_count": null,
      "outputs": []
    },
    {
      "cell_type": "code",
      "metadata": {
        "id": "pon-UHEWr8WM"
      },
      "source": [
        "earlyStop = tf.keras.callbacks.EarlyStopping(monitor=\"loss\", patience=3)"
      ],
      "execution_count": null,
      "outputs": []
    },
    {
      "cell_type": "markdown",
      "metadata": {
        "id": "kbUGzVGfO-4X"
      },
      "source": [
        "### 🏋️‍♀️Method of traning "
      ]
    },
    {
      "cell_type": "code",
      "metadata": {
        "id": "L4Iue7JVr4ma"
      },
      "source": [
        "def train_model(model):\n",
        "    tf.keras.backend.clear_session()\n",
        "    tf.random.set_seed(51)\n",
        "    np.random.seed(51)\n",
        "\n",
        "    return model.fit(\n",
        "              x=training_sequences, \n",
        "              y=training_labels, \n",
        "              #validation_split\n",
        "              #validation_data=(valid_sequences, valid_labels)\n",
        "              #wont make sense see: https://stackoverflow.com/a/57391324/1835650\n",
        "              verbose=1,\n",
        "              epochs=epochs,\n",
        "              callbacks=[earlyStop])"
      ],
      "execution_count": null,
      "outputs": []
    },
    {
      "cell_type": "markdown",
      "metadata": {
        "id": "ZKw4q_59UHCP"
      },
      "source": [
        "### Method of prediction"
      ]
    },
    {
      "cell_type": "code",
      "metadata": {
        "id": "FvrlJac2zPqK"
      },
      "source": [
        "def predict(model, texts):\n",
        "    tokenizer.fit_on_texts(texts)\n",
        "    tokenized_texts = tokenizer.texts_to_sequences(texts)\n",
        "    padded_texts = tf.keras.preprocessing.sequence.pad_sequences(\n",
        "        tokenized_texts,\n",
        "        maxlen = max_len,\n",
        "        padding = \"post\", \n",
        "    )\n",
        "    predicted = model.predict(padded_texts)\n",
        "    predicted_classes = np.argmax(predicted, axis=-1)\n",
        "\n",
        "    print(\"texts: {}\".format(texts))\n",
        "    print(\"tokenized_texts: {}\".format(tokenized_texts))\n",
        "    print(\"padded_texts: {}\".format(padded_texts))\n",
        "    print(\"predicted: {}\".format(predicted))\n",
        "    print(\"predicted class: {}\".format(predicted_classes))\n",
        "    predict_output(texts, predicted_classes)"
      ],
      "execution_count": null,
      "outputs": []
    },
    {
      "cell_type": "markdown",
      "metadata": {
        "id": "cG8ew7nfUPQT"
      },
      "source": [
        "### Method of evaluation"
      ]
    },
    {
      "cell_type": "code",
      "metadata": {
        "id": "mAXajNvpUV0v"
      },
      "source": [
        "def evaluate_model(model):\n",
        "  print(\"Evaluate on test data\")\n",
        "  results = model.evaluate(testing_sequences, testing_labels) "
      ],
      "execution_count": null,
      "outputs": []
    },
    {
      "cell_type": "markdown",
      "metadata": {
        "id": "XvJprfyBzPqK"
      },
      "source": [
        "## Try model without training"
      ]
    },
    {
      "cell_type": "code",
      "metadata": {
        "id": "ZUghAANhzPqK",
        "colab": {
          "base_uri": "https://localhost:8080/",
          "height": 919
        },
        "outputId": "048233c8-6aaa-4cb0-8c4a-e4f79c2031c9"
      },
      "source": [
        "model = build_model(tf.keras.layers.GlobalAveragePooling1D())\n",
        "predict(model, [\"hello\", \"bad man\", \"fuck you\", \"suck you\", \"you bitch\"])"
      ],
      "execution_count": null,
      "outputs": [
        {
          "output_type": "stream",
          "text": [
            "Model: \"sequential\"\n",
            "_________________________________________________________________\n",
            "Layer (type)                 Output Shape              Param #   \n",
            "=================================================================\n",
            "embedding (Embedding)        (None, None, 512)         14042112  \n",
            "_________________________________________________________________\n",
            "global_average_pooling1d (Gl (None, 512)               0         \n",
            "_________________________________________________________________\n",
            "dense (Dense)                (None, 27426)             14069538  \n",
            "_________________________________________________________________\n",
            "dropout (Dropout)            (None, 27426)             0         \n",
            "_________________________________________________________________\n",
            "dense_1 (Dense)              (None, 3)                 82281     \n",
            "=================================================================\n",
            "Total params: 28,193,931\n",
            "Trainable params: 28,193,931\n",
            "Non-trainable params: 0\n",
            "_________________________________________________________________\n",
            "texts: ['hello', 'bad man', 'fuck you', 'suck you', 'you bitch']\n",
            "tokenized_texts: [[1573], [84, 91], [36, 6], [376, 6], [6, 2]]\n",
            "padded_texts: [[1573    0    0    0    0    0    0    0    0    0    0    0    0    0\n",
            "     0]\n",
            " [  84   91    0    0    0    0    0    0    0    0    0    0    0    0\n",
            "     0]\n",
            " [  36    6    0    0    0    0    0    0    0    0    0    0    0    0\n",
            "     0]\n",
            " [ 376    6    0    0    0    0    0    0    0    0    0    0    0    0\n",
            "     0]\n",
            " [   6    2    0    0    0    0    0    0    0    0    0    0    0    0\n",
            "     0]]\n",
            "predicted: [[0.33249304 0.33354405 0.3339629 ]\n",
            " [0.33252585 0.33353403 0.33394012]\n",
            " [0.33246863 0.33371687 0.3338145 ]\n",
            " [0.33262017 0.3336443  0.33373553]\n",
            " [0.3324593  0.3338378  0.33370292]]\n",
            "predicted class: [2 2 2 2 1]\n"
          ],
          "name": "stdout"
        },
        {
          "output_type": "display_data",
          "data": {
            "image/png": "[encoded data removed]",
            "text/plain": [
              "<Figure size 432x288 with 1 Axes>"
            ]
          },
          "metadata": {
            "tags": [],
            "needs_background": "light"
          }
        }
      ]
    },
    {
      "cell_type": "markdown",
      "metadata": {
        "id": "TyiDV7e0zPqK"
      },
      "source": [
        "## 💥Training"
      ]
    },
    {
      "cell_type": "code",
      "metadata": {
        "id": "Woo0eDDpzPqK",
        "colab": {
          "base_uri": "https://localhost:8080/"
        },
        "outputId": "65133b95-7fcb-4fe5-e133-6759660e2ed9"
      },
      "source": [
        "model = build_model( \n",
        "    tf.keras.layers.Bidirectional(tf.keras.layers.LSTM(units=128, return_sequences=True)),\n",
        "    tf.keras.layers.Bidirectional(tf.keras.layers.LSTM(units=64,  return_sequences=True)),\n",
        "    tf.keras.layers.Bidirectional(tf.keras.layers.LSTM(units=32)),\n",
        ")\n",
        "history = train_model(model)"
      ],
      "execution_count": 26,
      "outputs": [
        {
          "output_type": "stream",
          "text": [
            "Model: \"sequential_1\"\n",
            "_________________________________________________________________\n",
            "Layer (type)                 Output Shape              Param #   \n",
            "=================================================================\n",
            "embedding_1 (Embedding)      (None, None, 512)         14042112  \n",
            "_________________________________________________________________\n",
            "bidirectional (Bidirectional (None, None, 256)         656384    \n",
            "_________________________________________________________________\n",
            "bidirectional_1 (Bidirection (None, None, 128)         164352    \n",
            "_________________________________________________________________\n",
            "bidirectional_2 (Bidirection (None, 64)                41216     \n",
            "_________________________________________________________________\n",
            "dense_2 (Dense)              (None, 27426)             1782690   \n",
            "_________________________________________________________________\n",
            "dropout_1 (Dropout)          (None, 27426)             0         \n",
            "_________________________________________________________________\n",
            "dense_3 (Dense)              (None, 3)                 82281     \n",
            "=================================================================\n",
            "Total params: 16,769,035\n",
            "Trainable params: 16,769,035\n",
            "Non-trainable params: 0\n",
            "_________________________________________________________________\n",
            "Epoch 1/100\n",
            "8098/8098 [==============================] - 758s 91ms/step - loss: 0.3276 - accuracy: 0.8855\n",
            "Epoch 2/100\n",
            "8098/8098 [==============================] - 733s 91ms/step - loss: 0.1105 - accuracy: 0.9603\n",
            "Epoch 3/100\n",
            "8098/8098 [==============================] - 730s 90ms/step - loss: 0.0761 - accuracy: 0.9718\n",
            "Epoch 4/100\n",
            "8098/8098 [==============================] - 728s 90ms/step - loss: 0.0590 - accuracy: 0.9780\n",
            "Epoch 5/100\n",
            "8098/8098 [==============================] - 732s 90ms/step - loss: 0.0501 - accuracy: 0.9812\n",
            "Epoch 6/100\n",
            "8098/8098 [==============================] - 722s 89ms/step - loss: 0.0443 - accuracy: 0.9839\n",
            "Epoch 7/100\n",
            "8098/8098 [==============================] - 739s 91ms/step - loss: 0.0398 - accuracy: 0.9852\n",
            "Epoch 8/100\n",
            "8098/8098 [==============================] - 734s 91ms/step - loss: 0.0376 - accuracy: 0.9859\n",
            "Epoch 9/100\n",
            "8098/8098 [==============================] - 738s 91ms/step - loss: 0.0351 - accuracy: 0.9867\n",
            "Epoch 10/100\n",
            "8098/8098 [==============================] - 738s 91ms/step - loss: 0.0340 - accuracy: 0.9870\n",
            "Epoch 11/100\n",
            "8098/8098 [==============================] - 737s 91ms/step - loss: 0.0329 - accuracy: 0.9872\n",
            "Epoch 12/100\n",
            "8098/8098 [==============================] - 741s 92ms/step - loss: 0.0313 - accuracy: 0.9879\n",
            "Epoch 13/100\n",
            "8098/8098 [==============================] - 746s 92ms/step - loss: 0.0317 - accuracy: 0.9876\n",
            "Epoch 14/100\n",
            "8098/8098 [==============================] - 753s 93ms/step - loss: 0.0301 - accuracy: 0.9886\n",
            "Epoch 15/100\n",
            "8098/8098 [==============================] - 753s 93ms/step - loss: 0.0297 - accuracy: 0.9886\n",
            "Epoch 16/100\n",
            "8098/8098 [==============================] - 751s 93ms/step - loss: 0.0291 - accuracy: 0.9885\n",
            "Epoch 17/100\n",
            "8098/8098 [==============================] - 750s 93ms/step - loss: 0.0299 - accuracy: 0.9879\n",
            "Epoch 18/100\n",
            "8098/8098 [==============================] - 748s 92ms/step - loss: 0.0279 - accuracy: 0.9886\n",
            "Epoch 19/100\n",
            "8098/8098 [==============================] - 750s 93ms/step - loss: 0.0288 - accuracy: 0.9888\n",
            "Epoch 20/100\n",
            "8098/8098 [==============================] - 746s 92ms/step - loss: 0.0284 - accuracy: 0.9889\n",
            "Epoch 21/100\n",
            "8098/8098 [==============================] - 736s 91ms/step - loss: 0.0281 - accuracy: 0.9888\n",
            "Epoch 22/100\n",
            "8098/8098 [==============================] - 741s 91ms/step - loss: 0.0273 - accuracy: 0.9894\n",
            "Epoch 23/100\n",
            "8098/8098 [==============================] - 740s 91ms/step - loss: 0.0275 - accuracy: 0.9888\n",
            "Epoch 24/100\n",
            "8098/8098 [==============================] - 732s 90ms/step - loss: 0.0279 - accuracy: 0.9892\n",
            "Epoch 25/100\n",
            "8098/8098 [==============================] - 736s 91ms/step - loss: 0.0270 - accuracy: 0.9893\n",
            "Epoch 26/100\n",
            "8098/8098 [==============================] - 736s 91ms/step - loss: 0.0272 - accuracy: 0.9895\n",
            "Epoch 27/100\n",
            "8098/8098 [==============================] - 735s 91ms/step - loss: 0.0267 - accuracy: 0.9892\n",
            "Epoch 28/100\n",
            "8098/8098 [==============================] - 732s 90ms/step - loss: 0.0281 - accuracy: 0.9891\n"
          ],
          "name": "stdout"
        }
      ]
    },
    {
      "cell_type": "markdown",
      "metadata": {
        "id": "8g5MaY76Wdt5"
      },
      "source": [
        "## Training completed"
      ]
    },
    {
      "cell_type": "markdown",
      "metadata": {
        "id": "Hq2GVWZxXAAI"
      },
      "source": [
        "### Result"
      ]
    },
    {
      "cell_type": "code",
      "metadata": {
        "id": "r_CWl08DWct_",
        "colab": {
          "base_uri": "https://localhost:8080/",
          "height": 513
        },
        "outputId": "60a78059-66b7-4f71-f49a-c5c881d23dbe"
      },
      "source": [
        "plot(history, \"accuracy\", \"loss\")\n"
      ],
      "execution_count": 27,
      "outputs": [
        {
          "output_type": "display_data",
          "data": {
            "image/png": "[encoded data removed]",
            "text/plain": [
              "<Figure size 432x288 with 1 Axes>"
            ]
          },
          "metadata": {
            "tags": [],
            "needs_background": "light"
          }
        },
        {
          "output_type": "display_data",
          "data": {
            "image/png": "[encoded data removed]",
            "text/plain": [
              "<Figure size 432x288 with 1 Axes>"
            ]
          },
          "metadata": {
            "tags": [],
            "needs_background": "light"
          }
        }
      ]
    },
    {
      "cell_type": "markdown",
      "metadata": {
        "id": "h9X33m5IXCQg"
      },
      "source": [
        "### Try to predict"
      ]
    },
    {
      "cell_type": "code",
      "metadata": {
        "id": "0AndRjZUzPqK",
        "colab": {
          "base_uri": "https://localhost:8080/",
          "height": 384
        },
        "outputId": "0a659444-0ac5-4b7a-fb08-62a2d0257e22"
      },
      "source": [
        "predict(model, [\"some friends tell me how it is\"])\n"
      ],
      "execution_count": 33,
      "outputs": [
        {
          "output_type": "stream",
          "text": [
            "texts: ['some friends tell me how it is']\n",
            "tokenized_texts: [[61, 286, 141, 15, 69, 24, 13]]\n",
            "padded_texts: [[ 61 286 141  15  69  24  13   0   0   0   0   0   0   0   0]]\n",
            "predicted: [[2.2181692e-09 2.0328334e-05 9.9997962e-01]]\n",
            "predicted class: [2]\n"
          ],
          "name": "stdout"
        },
        {
          "output_type": "display_data",
          "data": {
            "image/png": "[encoded data removed]",
            "text/plain": [
              "<Figure size 432x288 with 1 Axes>"
            ]
          },
          "metadata": {
            "tags": [],
            "needs_background": "light"
          }
        }
      ]
    },
    {
      "cell_type": "markdown",
      "metadata": {
        "id": "F7D9O-d3YvU8"
      },
      "source": [
        "### Evaluation"
      ]
    },
    {
      "cell_type": "code",
      "metadata": {
        "id": "_4hLpsxdYywD",
        "colab": {
          "base_uri": "https://localhost:8080/"
        },
        "outputId": "611fc190-7221-44b3-8c4e-9b7dc56c2be2"
      },
      "source": [
        "evaluate_model(model)"
      ],
      "execution_count": 29,
      "outputs": [
        {
          "output_type": "stream",
          "text": [
            "Evaluate on test data\n",
            "1430/1430 [==============================] - 11s 6ms/step - loss: 3.2735 - accuracy: 0.7647\n"
          ],
          "name": "stdout"
        }
      ]
    }
  ]
}