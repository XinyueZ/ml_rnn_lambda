{
  "nbformat": 4,
  "nbformat_minor": 0,
  "metadata": {
    "language_info": {
      "codemirror_mode": {
        "name": "ipython",
        "version": 3
      },
      "file_extension": ".py",
      "mimetype": "text/x-python",
      "name": "python",
      "nbconvert_exporter": "python",
      "pygments_lexer": "ipython3",
      "version": "3.8.2-final"
    },
    "orig_nbformat": 2,
    "kernelspec": {
      "name": "python3",
      "display_name": "Python 3",
      "language": "python"
    },
    "colab": {
      "name": "profanity_check_classification.ipynb",
      "provenance": [],
      "toc_visible": true
    },
    "accelerator": "GPU"
  },
  "cells": [
    {
      "cell_type": "markdown",
      "metadata": {
        "id": "uePUI0owzPqD"
      },
      "source": [
        "# Check the sentence profanity classification\n",
        "\n",
        "\n",
        "\n",
        "|  hate speech  | offensive language  |  neither |  \n",
        "|---|---|---| \n",
        "| 0  |  1 |  2 |  "
      ]
    },
    {
      "cell_type": "code",
      "metadata": {
        "id": "rDFFmSIQzPqG"
      },
      "source": [
        "import tensorflow as tf\n",
        "import numpy as np\n",
        "import pandas as pd\n",
        "import itertools\n",
        "import re\n",
        "import os\n",
        "import math\n",
        "import pprint as pp\n"
      ],
      "execution_count": null,
      "outputs": []
    },
    {
      "cell_type": "markdown",
      "metadata": {
        "id": "hHAJOzYMzPqG"
      },
      "source": [
        "# Data "
      ]
    },
    {
      "cell_type": "markdown",
      "metadata": {
        "id": "VKdTV0qszPqG"
      },
      "source": [
        "## Download data"
      ]
    },
    {
      "cell_type": "code",
      "metadata": {
        "id": "sP84s-E4zPqG"
      },
      "source": [
        "URL = \"https://dl.dropbox.com/s/ewpit86gekpiwk5/hate_dirty_peech_labeled_data.tsv\"\n",
        "path = tf.keras.utils.get_file(URL.split('/')[-1], URL)\n",
        "data = pd.read_csv(path, sep=\"\\t\")\n"
      ],
      "execution_count": null,
      "outputs": []
    },
    {
      "cell_type": "markdown",
      "metadata": {
        "id": "rmQwuSjfzPqG"
      },
      "source": [
        "## Shuffle data"
      ]
    },
    {
      "cell_type": "code",
      "metadata": {
        "colab": {
          "base_uri": "https://localhost:8080/",
          "height": 198
        },
        "id": "lPIuKe19zPqH",
        "outputId": "956bbc8d-a9b6-40e4-fcdc-886600effecd"
      },
      "source": [
        "data = data.sample(frac=1)\n",
        "data.head()\n"
      ],
      "execution_count": null,
      "outputs": [
        {
          "output_type": "execute_result",
          "data": {
            "text/html": [
              "<div>\n",
              "<style scoped>\n",
              "    .dataframe tbody tr th:only-of-type {\n",
              "        vertical-align: middle;\n",
              "    }\n",
              "\n",
              "    .dataframe tbody tr th {\n",
              "        vertical-align: top;\n",
              "    }\n",
              "\n",
              "    .dataframe thead th {\n",
              "        text-align: right;\n",
              "    }\n",
              "</style>\n",
              "<table border=\"1\" class=\"dataframe\">\n",
              "  <thead>\n",
              "    <tr style=\"text-align: right;\">\n",
              "      <th></th>\n",
              "      <th>Unnamed: 0</th>\n",
              "      <th>count</th>\n",
              "      <th>hate_speech</th>\n",
              "      <th>offensive_language</th>\n",
              "      <th>neither</th>\n",
              "      <th>class</th>\n",
              "      <th>tweet</th>\n",
              "    </tr>\n",
              "  </thead>\n",
              "  <tbody>\n",
              "    <tr>\n",
              "      <th>24499</th>\n",
              "      <td>25013</td>\n",
              "      <td>3</td>\n",
              "      <td>0</td>\n",
              "      <td>2</td>\n",
              "      <td>1</td>\n",
              "      <td>1</td>\n",
              "      <td>the bae gettin her nips pierced &amp;#128525;&amp;#128...</td>\n",
              "    </tr>\n",
              "    <tr>\n",
              "      <th>14382</th>\n",
              "      <td>14732</td>\n",
              "      <td>3</td>\n",
              "      <td>0</td>\n",
              "      <td>3</td>\n",
              "      <td>0</td>\n",
              "      <td>1</td>\n",
              "      <td>RT @BiggMoe_: Floyd Mayweather stay with a bad...</td>\n",
              "    </tr>\n",
              "    <tr>\n",
              "      <th>15594</th>\n",
              "      <td>15967</td>\n",
              "      <td>3</td>\n",
              "      <td>0</td>\n",
              "      <td>2</td>\n",
              "      <td>1</td>\n",
              "      <td>1</td>\n",
              "      <td>RT @If_ItAint_B: Miami isn't a good city at al...</td>\n",
              "    </tr>\n",
              "    <tr>\n",
              "      <th>20593</th>\n",
              "      <td>21048</td>\n",
              "      <td>3</td>\n",
              "      <td>0</td>\n",
              "      <td>0</td>\n",
              "      <td>3</td>\n",
              "      <td>2</td>\n",
              "      <td>Saltine crackers for dinner lol. Sad lyfe.</td>\n",
              "    </tr>\n",
              "    <tr>\n",
              "      <th>18671</th>\n",
              "      <td>19092</td>\n",
              "      <td>3</td>\n",
              "      <td>1</td>\n",
              "      <td>2</td>\n",
              "      <td>0</td>\n",
              "      <td>1</td>\n",
              "      <td>RT @bonita_kayla: all bitches wanna do is beef...</td>\n",
              "    </tr>\n",
              "  </tbody>\n",
              "</table>\n",
              "</div>"
            ],
            "text/plain": [
              "       Unnamed: 0  ...                                              tweet\n",
              "24499       25013  ...  the bae gettin her nips pierced &#128525;&#128...\n",
              "14382       14732  ...  RT @BiggMoe_: Floyd Mayweather stay with a bad...\n",
              "15594       15967  ...  RT @If_ItAint_B: Miami isn't a good city at al...\n",
              "20593       21048  ...         Saltine crackers for dinner lol. Sad lyfe.\n",
              "18671       19092  ...  RT @bonita_kayla: all bitches wanna do is beef...\n",
              "\n",
              "[5 rows x 7 columns]"
            ]
          },
          "metadata": {
            "tags": []
          },
          "execution_count": 3
        }
      ]
    },
    {
      "cell_type": "markdown",
      "metadata": {
        "id": "pSGieyw2zPqH"
      },
      "source": [
        "## Clean data"
      ]
    },
    {
      "cell_type": "code",
      "metadata": {
        "colab": {
          "base_uri": "https://localhost:8080/",
          "height": 1000
        },
        "id": "QPcAM7jnzPqH",
        "outputId": "043c3ddb-73c3-41db-8d13-f7fa674aa51d"
      },
      "source": [
        "data = data[pd.notnull(data['class'])]\n",
        "data = data[pd.notnull(data['tweet'])]\n",
        "data = data.drop(data.columns[0], axis=1) \n",
        "data = data.drop(columns=['count', 'hate_speech', 'offensive_language', 'neither']) \n",
        " \n",
        "data[\"tweet\"] = data[\"tweet\"].apply(lambda elem: re.sub(r\"(@[A-Za-z0-9]+)|([^0-9A-Za-z \\t])|(\\w+:\\/\\/\\S+)|^rt|http.+?\", \"\", elem)) \n",
        "\n",
        "data[\"label\"] = data[\"class\"]\n",
        "\n",
        "# class = class label for majority of CF users. 0 - hate speech 1 - offensive language 2 - neither\n",
        "data['class'].astype(str)\n",
        "data = data.replace({'class': {0: \"hate speech\", 1: \"offensive language\", 2: \"neither\"}})\n",
        "\n",
        "# Print the first first five rows as default\n",
        "data.head(50)\n"
      ],
      "execution_count": null,
      "outputs": [
        {
          "output_type": "execute_result",
          "data": {
            "text/html": [
              "<div>\n",
              "<style scoped>\n",
              "    .dataframe tbody tr th:only-of-type {\n",
              "        vertical-align: middle;\n",
              "    }\n",
              "\n",
              "    .dataframe tbody tr th {\n",
              "        vertical-align: top;\n",
              "    }\n",
              "\n",
              "    .dataframe thead th {\n",
              "        text-align: right;\n",
              "    }\n",
              "</style>\n",
              "<table border=\"1\" class=\"dataframe\">\n",
              "  <thead>\n",
              "    <tr style=\"text-align: right;\">\n",
              "      <th></th>\n",
              "      <th>class</th>\n",
              "      <th>tweet</th>\n",
              "      <th>label</th>\n",
              "    </tr>\n",
              "  </thead>\n",
              "  <tbody>\n",
              "    <tr>\n",
              "      <th>24499</th>\n",
              "      <td>offensive language</td>\n",
              "      <td>the bae gettin her nips pierced 128525128525</td>\n",
              "      <td>1</td>\n",
              "    </tr>\n",
              "    <tr>\n",
              "      <th>14382</th>\n",
              "      <td>offensive language</td>\n",
              "      <td>RT  Floyd Mayweather stay with a badd bitch lol</td>\n",
              "      <td>1</td>\n",
              "    </tr>\n",
              "    <tr>\n",
              "      <th>15594</th>\n",
              "      <td>offensive language</td>\n",
              "      <td>RT ItAintB Miami isnt a good city at alldont b...</td>\n",
              "      <td>1</td>\n",
              "    </tr>\n",
              "    <tr>\n",
              "      <th>20593</th>\n",
              "      <td>neither</td>\n",
              "      <td>Saltine crackers for dinner lol Sad lyfe</td>\n",
              "      <td>2</td>\n",
              "    </tr>\n",
              "    <tr>\n",
              "      <th>18671</th>\n",
              "      <td>offensive language</td>\n",
              "      <td>RT kayla all bitches wanna do is beef over nig...</td>\n",
              "      <td>1</td>\n",
              "    </tr>\n",
              "    <tr>\n",
              "      <th>15251</th>\n",
              "      <td>offensive language</td>\n",
              "      <td>RT  rt if u remember when steve from blue clue...</td>\n",
              "      <td>1</td>\n",
              "    </tr>\n",
              "    <tr>\n",
              "      <th>22236</th>\n",
              "      <td>offensive language</td>\n",
              "      <td>Too worried bout bitches amp fashion they go m...</td>\n",
              "      <td>1</td>\n",
              "    </tr>\n",
              "    <tr>\n",
              "      <th>2692</th>\n",
              "      <td>neither</td>\n",
              "      <td>we gunna laff at ChavaRubio beaner supporter...</td>\n",
              "      <td>2</td>\n",
              "    </tr>\n",
              "    <tr>\n",
              "      <th>20875</th>\n",
              "      <td>offensive language</td>\n",
              "      <td>Slide in the pussy like a surfboard</td>\n",
              "      <td>1</td>\n",
              "    </tr>\n",
              "    <tr>\n",
              "      <th>22165</th>\n",
              "      <td>neither</td>\n",
              "      <td>Thou shall not mock Ryanthe futureKelly</td>\n",
              "      <td>2</td>\n",
              "    </tr>\n",
              "    <tr>\n",
              "      <th>21880</th>\n",
              "      <td>offensive language</td>\n",
              "      <td>They thought I wouldnt make it pussy nigga we ...</td>\n",
              "      <td>1</td>\n",
              "    </tr>\n",
              "    <tr>\n",
              "      <th>16927</th>\n",
              "      <td>offensive language</td>\n",
              "      <td>RT  Eat it with milk RT  She gotta shape up he...</td>\n",
              "      <td>1</td>\n",
              "    </tr>\n",
              "    <tr>\n",
              "      <th>23883</th>\n",
              "      <td>offensive language</td>\n",
              "      <td>hahaha this dude on my timeline says bitch in ...</td>\n",
              "      <td>1</td>\n",
              "    </tr>\n",
              "    <tr>\n",
              "      <th>13188</th>\n",
              "      <td>offensive language</td>\n",
              "      <td>Nah we still up RT NOchill All the flat booty ...</td>\n",
              "      <td>1</td>\n",
              "    </tr>\n",
              "    <tr>\n",
              "      <th>9617</th>\n",
              "      <td>offensive language</td>\n",
              "      <td>Haha niggah uel04 gave up  cant keep up with m...</td>\n",
              "      <td>1</td>\n",
              "    </tr>\n",
              "    <tr>\n",
              "      <th>13822</th>\n",
              "      <td>offensive language</td>\n",
              "      <td>Photo Morning bitches</td>\n",
              "      <td>1</td>\n",
              "    </tr>\n",
              "    <tr>\n",
              "      <th>13408</th>\n",
              "      <td>neither</td>\n",
              "      <td>Noap Not taking them RT  Maca root pills makin...</td>\n",
              "      <td>2</td>\n",
              "    </tr>\n",
              "    <tr>\n",
              "      <th>11392</th>\n",
              "      <td>offensive language</td>\n",
              "      <td>Im sticking with fluzzy07s theory that black p...</td>\n",
              "      <td>1</td>\n",
              "    </tr>\n",
              "    <tr>\n",
              "      <th>12920</th>\n",
              "      <td>offensive language</td>\n",
              "      <td>Murda mook rip to that shit</td>\n",
              "      <td>1</td>\n",
              "    </tr>\n",
              "    <tr>\n",
              "      <th>19919</th>\n",
              "      <td>offensive language</td>\n",
              "      <td>RT  let my shirt go bitch its Aeropostale wtf ...</td>\n",
              "      <td>1</td>\n",
              "    </tr>\n",
              "    <tr>\n",
              "      <th>11941</th>\n",
              "      <td>offensive language</td>\n",
              "      <td>Its hilarious seeing chicks cry and whine thro...</td>\n",
              "      <td>1</td>\n",
              "    </tr>\n",
              "    <tr>\n",
              "      <th>17681</th>\n",
              "      <td>offensive language</td>\n",
              "      <td>RT  like fuccck man why yall bitches wearing w...</td>\n",
              "      <td>1</td>\n",
              "    </tr>\n",
              "    <tr>\n",
              "      <th>17511</th>\n",
              "      <td>neither</td>\n",
              "      <td>RT  Darn trash man he beat me to the good stuf...</td>\n",
              "      <td>2</td>\n",
              "    </tr>\n",
              "    <tr>\n",
              "      <th>7820</th>\n",
              "      <td>offensive language</td>\n",
              "      <td>As soon as bitches get on a come up you got th...</td>\n",
              "      <td>1</td>\n",
              "    </tr>\n",
              "    <tr>\n",
              "      <th>267</th>\n",
              "      <td>offensive language</td>\n",
              "      <td>Jack These harbor bitches are all Party Bus ho...</td>\n",
              "      <td>1</td>\n",
              "    </tr>\n",
              "    <tr>\n",
              "      <th>8773</th>\n",
              "      <td>offensive language</td>\n",
              "      <td>Dont be a little bitch or Ill do this to you</td>\n",
              "      <td>1</td>\n",
              "    </tr>\n",
              "    <tr>\n",
              "      <th>9783</th>\n",
              "      <td>offensive language</td>\n",
              "      <td>Here this bitch go  Lol</td>\n",
              "      <td>1</td>\n",
              "    </tr>\n",
              "    <tr>\n",
              "      <th>18786</th>\n",
              "      <td>offensive language</td>\n",
              "      <td>RT  bitch act like she never seen a face mask ...</td>\n",
              "      <td>1</td>\n",
              "    </tr>\n",
              "    <tr>\n",
              "      <th>24348</th>\n",
              "      <td>offensive language</td>\n",
              "      <td>pregnant at the same time and bitches think th...</td>\n",
              "      <td>1</td>\n",
              "    </tr>\n",
              "    <tr>\n",
              "      <th>13286</th>\n",
              "      <td>offensive language</td>\n",
              "      <td>Nigga pee wee is a bitch</td>\n",
              "      <td>1</td>\n",
              "    </tr>\n",
              "    <tr>\n",
              "      <th>19528</th>\n",
              "      <td>neither</td>\n",
              "      <td>RT  So all my real fans who can wait and not w...</td>\n",
              "      <td>2</td>\n",
              "    </tr>\n",
              "    <tr>\n",
              "      <th>22366</th>\n",
              "      <td>hate speech</td>\n",
              "      <td>Ugly fucking nigger baby Thought it was a gori...</td>\n",
              "      <td>0</td>\n",
              "    </tr>\n",
              "    <tr>\n",
              "      <th>22349</th>\n",
              "      <td>offensive language</td>\n",
              "      <td>U wont see me sober less i got court Mary the ...</td>\n",
              "      <td>1</td>\n",
              "    </tr>\n",
              "    <tr>\n",
              "      <th>3948</th>\n",
              "      <td>offensive language</td>\n",
              "      <td>but S HE got a pussy now which makes him a h...</td>\n",
              "      <td>1</td>\n",
              "    </tr>\n",
              "    <tr>\n",
              "      <th>5266</th>\n",
              "      <td>offensive language</td>\n",
              "      <td>Classic drunk Carter texts never fail Hey s...</td>\n",
              "      <td>1</td>\n",
              "    </tr>\n",
              "    <tr>\n",
              "      <th>23336</th>\n",
              "      <td>offensive language</td>\n",
              "      <td>You know bitches be mad when they be like Im m...</td>\n",
              "      <td>1</td>\n",
              "    </tr>\n",
              "    <tr>\n",
              "      <th>16335</th>\n",
              "      <td>neither</td>\n",
              "      <td>RT  Directioners 1Ds  amp Tomlinson monkey aro...</td>\n",
              "      <td>2</td>\n",
              "    </tr>\n",
              "    <tr>\n",
              "      <th>8004</th>\n",
              "      <td>hate speech</td>\n",
              "      <td>Between this trend and the vines acting like w...</td>\n",
              "      <td>0</td>\n",
              "    </tr>\n",
              "    <tr>\n",
              "      <th>20588</th>\n",
              "      <td>offensive language</td>\n",
              "      <td>SWAG 8220 bitch im serious</td>\n",
              "      <td>1</td>\n",
              "    </tr>\n",
              "    <tr>\n",
              "      <th>16346</th>\n",
              "      <td>offensive language</td>\n",
              "      <td>RT  Tori better watchout from her hoesshes gon...</td>\n",
              "      <td>1</td>\n",
              "    </tr>\n",
              "    <tr>\n",
              "      <th>17322</th>\n",
              "      <td>offensive language</td>\n",
              "      <td>RT Strange Sorry that I came into your pussy l...</td>\n",
              "      <td>1</td>\n",
              "    </tr>\n",
              "    <tr>\n",
              "      <th>5372</th>\n",
              "      <td>offensive language</td>\n",
              "      <td>Trail take like TAMU bitches jumped to 6 after...</td>\n",
              "      <td>1</td>\n",
              "    </tr>\n",
              "    <tr>\n",
              "      <th>13624</th>\n",
              "      <td>offensive language</td>\n",
              "      <td>Once you hate someone everything they do is of...</td>\n",
              "      <td>1</td>\n",
              "    </tr>\n",
              "    <tr>\n",
              "      <th>12716</th>\n",
              "      <td>offensive language</td>\n",
              "      <td>Man I thought that heifer was yo old bitch whe...</td>\n",
              "      <td>1</td>\n",
              "    </tr>\n",
              "    <tr>\n",
              "      <th>21855</th>\n",
              "      <td>offensive language</td>\n",
              "      <td>They fail to realize Ion want Friends bitches ...</td>\n",
              "      <td>1</td>\n",
              "    </tr>\n",
              "    <tr>\n",
              "      <th>21148</th>\n",
              "      <td>offensive language</td>\n",
              "      <td>Stevie J my nigga 128175128175 bitch be on ten</td>\n",
              "      <td>1</td>\n",
              "    </tr>\n",
              "    <tr>\n",
              "      <th>21397</th>\n",
              "      <td>neither</td>\n",
              "      <td>That long hair doesnt cover up your redneck</td>\n",
              "      <td>2</td>\n",
              "    </tr>\n",
              "    <tr>\n",
              "      <th>2693</th>\n",
              "      <td>offensive language</td>\n",
              "      <td>I didnt spoil anything amp you should have b...</td>\n",
              "      <td>1</td>\n",
              "    </tr>\n",
              "    <tr>\n",
              "      <th>11596</th>\n",
              "      <td>offensive language</td>\n",
              "      <td>If we get any trick of treaters I will be givi...</td>\n",
              "      <td>1</td>\n",
              "    </tr>\n",
              "    <tr>\n",
              "      <th>11849</th>\n",
              "      <td>neither</td>\n",
              "      <td>Is it just me or is Hicks saying bung beds</td>\n",
              "      <td>2</td>\n",
              "    </tr>\n",
              "  </tbody>\n",
              "</table>\n",
              "</div>"
            ],
            "text/plain": [
              "                    class  ... label\n",
              "24499  offensive language  ...     1\n",
              "14382  offensive language  ...     1\n",
              "15594  offensive language  ...     1\n",
              "20593             neither  ...     2\n",
              "18671  offensive language  ...     1\n",
              "15251  offensive language  ...     1\n",
              "22236  offensive language  ...     1\n",
              "2692              neither  ...     2\n",
              "20875  offensive language  ...     1\n",
              "22165             neither  ...     2\n",
              "21880  offensive language  ...     1\n",
              "16927  offensive language  ...     1\n",
              "23883  offensive language  ...     1\n",
              "13188  offensive language  ...     1\n",
              "9617   offensive language  ...     1\n",
              "13822  offensive language  ...     1\n",
              "13408             neither  ...     2\n",
              "11392  offensive language  ...     1\n",
              "12920  offensive language  ...     1\n",
              "19919  offensive language  ...     1\n",
              "11941  offensive language  ...     1\n",
              "17681  offensive language  ...     1\n",
              "17511             neither  ...     2\n",
              "7820   offensive language  ...     1\n",
              "267    offensive language  ...     1\n",
              "8773   offensive language  ...     1\n",
              "9783   offensive language  ...     1\n",
              "18786  offensive language  ...     1\n",
              "24348  offensive language  ...     1\n",
              "13286  offensive language  ...     1\n",
              "19528             neither  ...     2\n",
              "22366         hate speech  ...     0\n",
              "22349  offensive language  ...     1\n",
              "3948   offensive language  ...     1\n",
              "5266   offensive language  ...     1\n",
              "23336  offensive language  ...     1\n",
              "16335             neither  ...     2\n",
              "8004          hate speech  ...     0\n",
              "20588  offensive language  ...     1\n",
              "16346  offensive language  ...     1\n",
              "17322  offensive language  ...     1\n",
              "5372   offensive language  ...     1\n",
              "13624  offensive language  ...     1\n",
              "12716  offensive language  ...     1\n",
              "21855  offensive language  ...     1\n",
              "21148  offensive language  ...     1\n",
              "21397             neither  ...     2\n",
              "2693   offensive language  ...     1\n",
              "11596  offensive language  ...     1\n",
              "11849             neither  ...     2\n",
              "\n",
              "[50 rows x 3 columns]"
            ]
          },
          "metadata": {
            "tags": []
          },
          "execution_count": 4
        }
      ]
    },
    {
      "cell_type": "markdown",
      "metadata": {
        "id": "5j4_DcNtzPqH"
      },
      "source": [
        "# Create texts and labels"
      ]
    },
    {
      "cell_type": "markdown",
      "metadata": {
        "id": "xyS1ICeRzPqH"
      },
      "source": [
        "## Create labels"
      ]
    },
    {
      "cell_type": "code",
      "metadata": {
        "colab": {
          "base_uri": "https://localhost:8080/"
        },
        "id": "doxHcFgFzPqI",
        "outputId": "9e50a2df-be09-4d22-82ff-8338022f660d"
      },
      "source": [
        "labels = data[\"label\"].to_list()\n",
        "print(labels[:10])\n"
      ],
      "execution_count": null,
      "outputs": [
        {
          "output_type": "stream",
          "text": [
            "[1, 1, 1, 2, 1, 1, 1, 2, 1, 2]\n"
          ],
          "name": "stdout"
        }
      ]
    },
    {
      "cell_type": "code",
      "metadata": {
        "colab": {
          "base_uri": "https://localhost:8080/"
        },
        "id": "UjjUdYTmzPqI",
        "outputId": "0f8188b9-5e65-4956-ebd9-18d598757ad5"
      },
      "source": [
        "label_count = len(set(labels))\n",
        "print(label_count)\n"
      ],
      "execution_count": null,
      "outputs": [
        {
          "output_type": "stream",
          "text": [
            "3\n"
          ],
          "name": "stdout"
        }
      ]
    },
    {
      "cell_type": "markdown",
      "metadata": {
        "id": "I9iK9p2CzPqI"
      },
      "source": [
        "### Create texts sequences"
      ]
    },
    {
      "cell_type": "code",
      "metadata": {
        "colab": {
          "base_uri": "https://localhost:8080/"
        },
        "id": "VNYMcdCfzPqI",
        "outputId": "c51bf4f1-907b-42a9-d8c8-8ea9a0569141"
      },
      "source": [
        "texts = data[\"tweet\"].to_numpy()\n",
        "type(texts)\n",
        "print(texts[:10])\n"
      ],
      "execution_count": null,
      "outputs": [
        {
          "output_type": "stream",
          "text": [
            "['the bae gettin her nips pierced 128525128525'\n",
            " 'RT  Floyd Mayweather stay with a badd bitch lol'\n",
            " 'RT ItAintB Miami isnt a good city at alldont believe the shit you see on TV that city is trash'\n",
            " 'Saltine crackers for dinner lol Sad lyfe'\n",
            " 'RT kayla all bitches wanna do is beef over niggas 58382 grow tf up a get ya priorities straight 5793358167'\n",
            " 'RT  rt if u remember when steve from blue clues left us with that other bitch ass nigga joe '\n",
            " 'Too worried bout bitches amp fashion they go missing in action'\n",
            " '  we gunna laff at ChavaRubio beaner supporters in a min'\n",
            " 'Slide in the pussy like a surfboard'\n",
            " 'Thou shall not mock Ryanthe futureKelly']\n"
          ],
          "name": "stdout"
        }
      ]
    },
    {
      "cell_type": "code",
      "metadata": {
        "id": "bOTsMY2lzPqI"
      },
      "source": [
        "tokenizer = tf.keras.preprocessing.text.Tokenizer()\n",
        "tokenizer.fit_on_texts(texts)\n"
      ],
      "execution_count": null,
      "outputs": []
    },
    {
      "cell_type": "code",
      "metadata": {
        "colab": {
          "base_uri": "https://localhost:8080/"
        },
        "id": "RD9WyuHyzPqI",
        "outputId": "69412581-b734-4fc0-f84b-d473bb9fc75e"
      },
      "source": [
        "word_index = tokenizer.word_index\n",
        "total_words = len(word_index) + 1\n",
        "print(total_words) \n"
      ],
      "execution_count": null,
      "outputs": [
        {
          "output_type": "stream",
          "text": [
            "27426\n"
          ],
          "name": "stdout"
        }
      ]
    },
    {
      "cell_type": "code",
      "metadata": {
        "colab": {
          "base_uri": "https://localhost:8080/"
        },
        "id": "0jZJabL4zPqI",
        "outputId": "e65466b2-b4b3-4af7-8132-cc3015c05992"
      },
      "source": [
        "sequences = tokenizer.texts_to_sequences(texts)\n",
        "total_sequences = len(sequences)\n",
        "print(total_sequences)\n",
        "print(sequences[:10])\n"
      ],
      "execution_count": null,
      "outputs": [
        {
          "output_type": "stream",
          "text": [
            "24776\n",
            "[[5, 452, 527, 52, 1017, 2829, 2210], [3, 3094, 3446, 291, 26, 1, 5673, 2, 57], [3, 7281, 2211, 432, 1, 90, 630, 54, 10654, 456, 5, 44, 6, 100, 17, 945, 10, 630, 13, 53], [4634, 528, 21, 1228, 57, 616, 5674], [3, 10655, 31, 12, 130, 64, 13, 1229, 124, 67, 7282, 769, 361, 30, 1, 35, 97, 4635, 346, 10656], [3, 3, 32, 43, 388, 39, 1805, 83, 770, 3932, 433, 235, 26, 10, 177, 2, 28, 46, 780], [92, 737, 134, 12, 63, 1925, 38, 79, 1633, 11, 1722], [68, 1723, 3933, 54, 10657, 1305, 2568, 11, 1, 2371], [1230, 11, 5, 22, 14, 1, 7283], [2212, 2569, 47, 476, 10658, 10659]]\n"
          ],
          "name": "stdout"
        }
      ]
    },
    {
      "cell_type": "code",
      "metadata": {
        "colab": {
          "base_uri": "https://localhost:8080/"
        },
        "id": "K1GXkrCqzPqI",
        "outputId": "35cd38b4-b9a5-4e13-e150-1d951b845cf1"
      },
      "source": [
        "max_len = max([len(s) for s in sequences])\n",
        "print(max_len)\n"
      ],
      "execution_count": null,
      "outputs": [
        {
          "output_type": "stream",
          "text": [
            "57\n"
          ],
          "name": "stdout"
        }
      ]
    },
    {
      "cell_type": "markdown",
      "metadata": {
        "id": "8sWg1P0Z3yoZ"
      },
      "source": [
        "### Shift each sequence to generate more \"texts\""
      ]
    },
    {
      "cell_type": "code",
      "metadata": {
        "id": "5JugHj7s96BE"
      },
      "source": [
        "def shift_sequences(unshifted_sequences, labels):\n",
        "  shifted = []\n",
        "  i = -1\n",
        "  for seq in unshifted_sequences:\n",
        "    i = i + 1\n",
        "    length = len(seq)\n",
        "    shifted.append((seq, labels[i]))\n",
        "    if length > 3: [shifted.append((seq[:-shift], labels[i])) for shift in range(1, length-1)]  \n",
        "  return shifted\n"
      ],
      "execution_count": null,
      "outputs": []
    },
    {
      "cell_type": "code",
      "metadata": {
        "colab": {
          "base_uri": "https://localhost:8080/"
        },
        "id": "--D8dE0x-Z5P",
        "outputId": "ca81772a-d3ae-46b1-8aa4-2b860397365a"
      },
      "source": [
        "shifted_sequences_labels = np.array(shift_sequences(sequences, labels))\n",
        "\n",
        "sequences = shifted_sequences_labels[:,:-1][:,0]\n",
        "print(sequences[:3])\n",
        "\n",
        "labels = shifted_sequences_labels[:,-1]\n",
        "print(labels[:3])\n",
        "\n",
        "total_sequences = len(sequences)\n",
        "print(total_sequences)"
      ],
      "execution_count": null,
      "outputs": [
        {
          "output_type": "stream",
          "text": [
            "[list([5, 452, 527, 52, 1017, 2829, 2210])\n",
            " list([5, 452, 527, 52, 1017, 2829]) list([5, 452, 527, 52, 1017])]\n",
            "[1 1 1]\n",
            "304862\n"
          ],
          "name": "stdout"
        },
        {
          "output_type": "stream",
          "text": [
            "/usr/local/lib/python3.7/dist-packages/ipykernel_launcher.py:1: VisibleDeprecationWarning: Creating an ndarray from ragged nested sequences (which is a list-or-tuple of lists-or-tuples-or ndarrays with different lengths or shapes) is deprecated. If you meant to do this, you must specify 'dtype=object' when creating the ndarray\n",
            "  \"\"\"Entry point for launching an IPython kernel.\n"
          ],
          "name": "stderr"
        }
      ]
    },
    {
      "cell_type": "code",
      "metadata": {
        "id": "kuMejVrAzPqJ",
        "colab": {
          "base_uri": "https://localhost:8080/"
        },
        "outputId": "81857aa1-2bc6-4cbb-94c9-926b3091e40a"
      },
      "source": [
        "padded_sequences = tf.keras.preprocessing.sequence.pad_sequences(\n",
        "    sequences,\n",
        "    padding = \"post\",\n",
        "    maxlen = max_len\n",
        ")\n",
        "\n",
        "#padded_sequences = tf.expand_dims(padded_sequences, axis=-1)\n",
        "print(type(padded_sequences))\n",
        "print(padded_sequences[:5])\n",
        "\n",
        "labels = np.asarray(labels).astype(np.int)\n",
        "print(labels[:5])"
      ],
      "execution_count": null,
      "outputs": [
        {
          "output_type": "stream",
          "text": [
            "<class 'numpy.ndarray'>\n",
            "[[   5  452  527   52 1017 2829 2210    0    0    0    0    0    0    0\n",
            "     0    0    0    0    0    0    0    0    0    0    0    0    0    0\n",
            "     0    0    0    0    0    0    0    0    0    0    0    0    0    0\n",
            "     0    0    0    0    0    0    0    0    0    0    0    0    0    0\n",
            "     0]\n",
            " [   5  452  527   52 1017 2829    0    0    0    0    0    0    0    0\n",
            "     0    0    0    0    0    0    0    0    0    0    0    0    0    0\n",
            "     0    0    0    0    0    0    0    0    0    0    0    0    0    0\n",
            "     0    0    0    0    0    0    0    0    0    0    0    0    0    0\n",
            "     0]\n",
            " [   5  452  527   52 1017    0    0    0    0    0    0    0    0    0\n",
            "     0    0    0    0    0    0    0    0    0    0    0    0    0    0\n",
            "     0    0    0    0    0    0    0    0    0    0    0    0    0    0\n",
            "     0    0    0    0    0    0    0    0    0    0    0    0    0    0\n",
            "     0]\n",
            " [   5  452  527   52    0    0    0    0    0    0    0    0    0    0\n",
            "     0    0    0    0    0    0    0    0    0    0    0    0    0    0\n",
            "     0    0    0    0    0    0    0    0    0    0    0    0    0    0\n",
            "     0    0    0    0    0    0    0    0    0    0    0    0    0    0\n",
            "     0]\n",
            " [   5  452  527    0    0    0    0    0    0    0    0    0    0    0\n",
            "     0    0    0    0    0    0    0    0    0    0    0    0    0    0\n",
            "     0    0    0    0    0    0    0    0    0    0    0    0    0    0\n",
            "     0    0    0    0    0    0    0    0    0    0    0    0    0    0\n",
            "     0]]\n",
            "[1 1 1 1 1]\n"
          ],
          "name": "stdout"
        }
      ]
    },
    {
      "cell_type": "markdown",
      "metadata": {
        "id": "FpLlIOZmzPqJ"
      },
      "source": [
        "## Divide training data and testing data"
      ]
    },
    {
      "cell_type": "markdown",
      "metadata": {
        "id": "DiLfq4poOqY1"
      },
      "source": [
        "### Training data"
      ]
    },
    {
      "cell_type": "code",
      "metadata": {
        "id": "ZFaMe88YzPqJ",
        "colab": {
          "base_uri": "https://localhost:8080/"
        },
        "outputId": "fd53c5e9-f59a-447c-ccb2-42ffd6f2078e"
      },
      "source": [
        "boundary = int(.85 * total_sequences)\n",
        "\n",
        "training_sequences = padded_sequences[:boundary]\n",
        "training_labels = labels[:boundary]\n",
        "\n",
        "print(len(training_sequences))\n",
        "print(len(training_labels))\n",
        "\n",
        "print(training_sequences[:5])\n",
        "print(training_labels[:5])\n"
      ],
      "execution_count": null,
      "outputs": [
        {
          "output_type": "stream",
          "text": [
            "259132\n",
            "259132\n",
            "[[   5  452  527   52 1017 2829 2210    0    0    0    0    0    0    0\n",
            "     0    0    0    0    0    0    0    0    0    0    0    0    0    0\n",
            "     0    0    0    0    0    0    0    0    0    0    0    0    0    0\n",
            "     0    0    0    0    0    0    0    0    0    0    0    0    0    0\n",
            "     0]\n",
            " [   5  452  527   52 1017 2829    0    0    0    0    0    0    0    0\n",
            "     0    0    0    0    0    0    0    0    0    0    0    0    0    0\n",
            "     0    0    0    0    0    0    0    0    0    0    0    0    0    0\n",
            "     0    0    0    0    0    0    0    0    0    0    0    0    0    0\n",
            "     0]\n",
            " [   5  452  527   52 1017    0    0    0    0    0    0    0    0    0\n",
            "     0    0    0    0    0    0    0    0    0    0    0    0    0    0\n",
            "     0    0    0    0    0    0    0    0    0    0    0    0    0    0\n",
            "     0    0    0    0    0    0    0    0    0    0    0    0    0    0\n",
            "     0]\n",
            " [   5  452  527   52    0    0    0    0    0    0    0    0    0    0\n",
            "     0    0    0    0    0    0    0    0    0    0    0    0    0    0\n",
            "     0    0    0    0    0    0    0    0    0    0    0    0    0    0\n",
            "     0    0    0    0    0    0    0    0    0    0    0    0    0    0\n",
            "     0]\n",
            " [   5  452  527    0    0    0    0    0    0    0    0    0    0    0\n",
            "     0    0    0    0    0    0    0    0    0    0    0    0    0    0\n",
            "     0    0    0    0    0    0    0    0    0    0    0    0    0    0\n",
            "     0    0    0    0    0    0    0    0    0    0    0    0    0    0\n",
            "     0]]\n",
            "[1 1 1 1 1]\n"
          ],
          "name": "stdout"
        }
      ]
    },
    {
      "cell_type": "markdown",
      "metadata": {
        "id": "2UvmuowkOykj"
      },
      "source": [
        "### Testing data"
      ]
    },
    {
      "cell_type": "code",
      "metadata": {
        "id": "2vuvLYAazPqJ",
        "colab": {
          "base_uri": "https://localhost:8080/"
        },
        "outputId": "9f2f1d4a-4f57-403c-d176-4e97f71ef16d"
      },
      "source": [
        "testing_sequences = padded_sequences[boundary:]\n",
        "testing_labels = labels[boundary:]\n",
        "\n",
        "total_testing_sequences = len(testing_sequences)\n",
        "print(total_testing_sequences)\n",
        "print(len(testing_labels))\n",
        "\n",
        "print(testing_sequences[:5])\n",
        "print(testing_labels[:5])\n"
      ],
      "execution_count": null,
      "outputs": [
        {
          "output_type": "stream",
          "text": [
            "45730\n",
            "45730\n",
            "[[  23 2331  502    0    0    0    0    0    0    0    0    0    0    0\n",
            "     0    0    0    0    0    0    0    0    0    0    0    0    0    0\n",
            "     0    0    0    0    0    0    0    0    0    0    0    0    0    0\n",
            "     0    0    0    0    0    0    0    0    0    0    0    0    0    0\n",
            "     0]\n",
            " [  23 2331    0    0    0    0    0    0    0    0    0    0    0    0\n",
            "     0    0    0    0    0    0    0    0    0    0    0    0    0    0\n",
            "     0    0    0    0    0    0    0    0    0    0    0    0    0    0\n",
            "     0    0    0    0    0    0    0    0    0    0    0    0    0    0\n",
            "     0]\n",
            " [  83   86   17    4  108  142   31 7039 2515  423   24   13  741 5089\n",
            "     8   24   13  525    4  191  525  673  635   76 1712  688    0    0\n",
            "     0    0    0    0    0    0    0    0    0    0    0    0    0    0\n",
            "     0    0    0    0    0    0    0    0    0    0    0    0    0    0\n",
            "     0]\n",
            " [  83   86   17    4  108  142   31 7039 2515  423   24   13  741 5089\n",
            "     8   24   13  525    4  191  525  673  635   76 1712    0    0    0\n",
            "     0    0    0    0    0    0    0    0    0    0    0    0    0    0\n",
            "     0    0    0    0    0    0    0    0    0    0    0    0    0    0\n",
            "     0]\n",
            " [  83   86   17    4  108  142   31 7039 2515  423   24   13  741 5089\n",
            "     8   24   13  525    4  191  525  673  635   76    0    0    0    0\n",
            "     0    0    0    0    0    0    0    0    0    0    0    0    0    0\n",
            "     0    0    0    0    0    0    0    0    0    0    0    0    0    0\n",
            "     0]]\n",
            "[1 1 0 0 0]\n"
          ],
          "name": "stdout"
        }
      ]
    },
    {
      "cell_type": "markdown",
      "metadata": {
        "id": "ORJCAMWIzPqJ"
      },
      "source": [
        "# Machine-learning"
      ]
    },
    {
      "cell_type": "markdown",
      "metadata": {
        "id": "KXt7TgZLzPqJ"
      },
      "source": [
        "## Hyperparameters"
      ]
    },
    {
      "cell_type": "code",
      "metadata": {
        "id": "RhhHicGfzPqJ"
      },
      "source": [
        "epochs = 1#100\n",
        "embedding_dim = 215\n"
      ],
      "execution_count": null,
      "outputs": []
    },
    {
      "cell_type": "markdown",
      "metadata": {
        "id": "a_lSl3E5zPqK"
      },
      "source": [
        "## Utils, like output, graphic etc...."
      ]
    },
    {
      "cell_type": "markdown",
      "metadata": {
        "id": "qv14gV8kzPqK"
      },
      "source": [
        "### Table of *prediction*"
      ]
    },
    {
      "cell_type": "code",
      "metadata": {
        "id": "OLcXF9A4zPqK"
      },
      "source": [
        "import matplotlib.pyplot as plt\n",
        "\n",
        "def predict_output(texts, predicated_classes):\n",
        "    fig, ax = plt.subplots()\n",
        "    ax.axis('off')\n",
        "\n",
        "    predicated_classes = np.expand_dims(predicated_classes, axis=-1)\n",
        "\n",
        "    table = ax.table(\n",
        "             rowLabels=texts,  \n",
        "             colLabels=[\"classification\"],  \n",
        "             cellText=predicated_classes, \n",
        "             cellLoc=\"center\", \n",
        "             loc=\"center\"\n",
        "    )\n",
        "    table.scale(0.5, 1)  \n",
        "    \n",
        "    ax.set_title('0: \"hate speech\", 1: \"offensive language\", 2: \"neither\"',\n",
        "              fontweight =\"bold\")\n",
        "\n",
        "    fig.tight_layout()\n",
        "    plt.show()"
      ],
      "execution_count": null,
      "outputs": []
    },
    {
      "cell_type": "markdown",
      "metadata": {
        "id": "P0CJdCjGQMtq"
      },
      "source": [
        "### 📊Grpahic of training"
      ]
    },
    {
      "cell_type": "code",
      "metadata": {
        "id": "4KZwvigwQQco"
      },
      "source": [
        "# PLOT LOSS AND ACCURACY\n",
        "%matplotlib inline\n",
        "\n",
        "import matplotlib.image  as mpimg\n",
        "import matplotlib.pyplot as plt\n",
        "\n",
        "def plot(history, m0, m1): \n",
        "  h_m0=history.history[m0] \n",
        "  h_m1=history.history[m1] \n",
        "  epochs=range(len(h_m0))  \n",
        "  plt.plot(epochs, h_m0, 'b', m0) \n",
        "  plt.figure()  \n",
        "  plt.plot(epochs, h_m1, 'b', m1)  "
      ],
      "execution_count": null,
      "outputs": []
    },
    {
      "cell_type": "markdown",
      "metadata": {
        "id": "wvQ3lN3DzPqK"
      },
      "source": [
        "## Methods"
      ]
    },
    {
      "cell_type": "markdown",
      "metadata": {
        "id": "ZOkY2pnpsEKl"
      },
      "source": [
        "### 🎉Method of building model"
      ]
    },
    {
      "cell_type": "code",
      "metadata": {
        "id": "XOPw2Q7CsIs3"
      },
      "source": [
        "def build_model(*layers):\n",
        "    model = tf.keras.Sequential()\n",
        "    model.add(\n",
        "        tf.keras.layers.Embedding(\n",
        "            input_dim=total_words,\n",
        "            output_dim=embedding_dim,\n",
        "            input_length=max_len\n",
        "        ),\n",
        "    ) \n",
        "    [model.add(layer) for layer in layers]\n",
        "\n",
        "    model.add(tf.keras.layers.Dropout(.5))\n",
        "    model.add(tf.keras.layers.Dense(total_words / 2,\n",
        "                                    activation=tf.keras.activations.relu, \n",
        "                                    bias_regularizer=tf.keras.regularizers.l2(1e-4)))\n",
        "    model.add(tf.keras.layers.Dense(label_count, activation=tf.keras.activations.softmax))\n",
        " \n",
        "    model.compile(\n",
        "        loss=tf.keras.losses.SparseCategoricalCrossentropy(),\n",
        "        optimizer=tf.keras.optimizers.Adam(),\n",
        "        metrics=[\"accuracy\"],\n",
        "    )\n",
        "    model.summary()\n",
        "\n",
        "    return model"
      ],
      "execution_count": null,
      "outputs": []
    },
    {
      "cell_type": "code",
      "metadata": {
        "id": "pon-UHEWr8WM"
      },
      "source": [
        "earlyStop = tf.keras.callbacks.EarlyStopping(monitor=\"loss\", patience=2)"
      ],
      "execution_count": null,
      "outputs": []
    },
    {
      "cell_type": "markdown",
      "metadata": {
        "id": "kbUGzVGfO-4X"
      },
      "source": [
        "### 🏋️‍♀️Method of traning "
      ]
    },
    {
      "cell_type": "code",
      "metadata": {
        "id": "L4Iue7JVr4ma"
      },
      "source": [
        "def train_model(model):\n",
        "    tf.keras.backend.clear_session()\n",
        "    tf.random.set_seed(51)\n",
        "    np.random.seed(51)\n",
        "\n",
        "    return model.fit(\n",
        "              x=training_sequences, \n",
        "              y=training_labels, \n",
        "              #validation_split\n",
        "              #validation_data=(valid_sequences, valid_labels)\n",
        "              #wont make sense see: https://stackoverflow.com/a/57391324/1835650\n",
        "              verbose=1,\n",
        "              epochs=epochs,\n",
        "              callbacks=[earlyStop])"
      ],
      "execution_count": null,
      "outputs": []
    },
    {
      "cell_type": "markdown",
      "metadata": {
        "id": "ZKw4q_59UHCP"
      },
      "source": [
        "### Method of prediction"
      ]
    },
    {
      "cell_type": "code",
      "metadata": {
        "id": "FvrlJac2zPqK"
      },
      "source": [
        "def predict(model, texts):\n",
        "    tokenizer.fit_on_texts(texts)\n",
        "    tokenized_texts = tokenizer.texts_to_sequences(texts)\n",
        "    padded_texts = tf.keras.preprocessing.sequence.pad_sequences(\n",
        "        tokenized_texts,\n",
        "        maxlen = max_len,\n",
        "        padding = \"post\", \n",
        "    )\n",
        "    predicted = model.predict(padded_texts)\n",
        "    predicted_classes = np.argmax(predicted, axis=-1)\n",
        "\n",
        "    print(\"texts: {}\".format(texts))\n",
        "    print(\"tokenized_texts: {}\".format(tokenized_texts))\n",
        "    print(\"padded_texts: {}\".format(padded_texts))\n",
        "    print(\"predicted: {}\".format(predicted))\n",
        "    print(\"predicted class: {}\".format(predicted_classes))\n",
        "    predict_output(texts, predicted_classes)"
      ],
      "execution_count": null,
      "outputs": []
    },
    {
      "cell_type": "markdown",
      "metadata": {
        "id": "cG8ew7nfUPQT"
      },
      "source": [
        "### Method of evaluation"
      ]
    },
    {
      "cell_type": "code",
      "metadata": {
        "id": "mAXajNvpUV0v"
      },
      "source": [
        "def evaluate_model(model):\n",
        "  print(\"Evaluate on test data\")\n",
        "  results = model.evaluate(testing_sequences, testing_labels) "
      ],
      "execution_count": null,
      "outputs": []
    },
    {
      "cell_type": "markdown",
      "metadata": {
        "id": "XvJprfyBzPqK"
      },
      "source": [
        "## Try model without training"
      ]
    },
    {
      "cell_type": "code",
      "metadata": {
        "id": "ZUghAANhzPqK",
        "colab": {
          "base_uri": "https://localhost:8080/",
          "height": 1000
        },
        "outputId": "52d6e1aa-c56e-4b4d-f36d-59d31955eb38"
      },
      "source": [
        "model = build_model(tf.keras.layers.GlobalAveragePooling1D())\n",
        "predict(model, [\"hello\", \"bad man\", \"fuck you\", \"suck you\", \"you bitch\"])"
      ],
      "execution_count": null,
      "outputs": [
        {
          "output_type": "stream",
          "text": [
            "Model: \"sequential\"\n",
            "_________________________________________________________________\n",
            "Layer (type)                 Output Shape              Param #   \n",
            "=================================================================\n",
            "embedding (Embedding)        (None, 57, 215)           5896590   \n",
            "_________________________________________________________________\n",
            "global_average_pooling1d (Gl (None, 215)               0         \n",
            "_________________________________________________________________\n",
            "dropout (Dropout)            (None, 215)               0         \n",
            "_________________________________________________________________\n",
            "dense (Dense)                (None, 13713)             2962008   \n",
            "_________________________________________________________________\n",
            "dense_1 (Dense)              (None, 3)                 41142     \n",
            "=================================================================\n",
            "Total params: 8,899,740\n",
            "Trainable params: 8,899,740\n",
            "Non-trainable params: 0\n",
            "_________________________________________________________________\n",
            "texts: ['hello', 'bad man', 'fuck you', 'suck you', 'you bitch']\n",
            "tokenized_texts: [[1611], [84, 91], [36, 6], [376, 6], [6, 2]]\n",
            "padded_texts: [[1611    0    0    0    0    0    0    0    0    0    0    0    0    0\n",
            "     0    0    0    0    0    0    0    0    0    0    0    0    0    0\n",
            "     0    0    0    0    0    0    0    0    0    0    0    0    0    0\n",
            "     0    0    0    0    0    0    0    0    0    0    0    0    0    0\n",
            "     0]\n",
            " [  84   91    0    0    0    0    0    0    0    0    0    0    0    0\n",
            "     0    0    0    0    0    0    0    0    0    0    0    0    0    0\n",
            "     0    0    0    0    0    0    0    0    0    0    0    0    0    0\n",
            "     0    0    0    0    0    0    0    0    0    0    0    0    0    0\n",
            "     0]\n",
            " [  36    6    0    0    0    0    0    0    0    0    0    0    0    0\n",
            "     0    0    0    0    0    0    0    0    0    0    0    0    0    0\n",
            "     0    0    0    0    0    0    0    0    0    0    0    0    0    0\n",
            "     0    0    0    0    0    0    0    0    0    0    0    0    0    0\n",
            "     0]\n",
            " [ 376    6    0    0    0    0    0    0    0    0    0    0    0    0\n",
            "     0    0    0    0    0    0    0    0    0    0    0    0    0    0\n",
            "     0    0    0    0    0    0    0    0    0    0    0    0    0    0\n",
            "     0    0    0    0    0    0    0    0    0    0    0    0    0    0\n",
            "     0]\n",
            " [   6    2    0    0    0    0    0    0    0    0    0    0    0    0\n",
            "     0    0    0    0    0    0    0    0    0    0    0    0    0    0\n",
            "     0    0    0    0    0    0    0    0    0    0    0    0    0    0\n",
            "     0    0    0    0    0    0    0    0    0    0    0    0    0    0\n",
            "     0]]\n",
            "predicted: [[0.33340865 0.3326961  0.3338952 ]\n",
            " [0.33342043 0.33268285 0.3338967 ]\n",
            " [0.3334203  0.3326631  0.33391663]\n",
            " [0.3334313  0.33261615 0.33395258]\n",
            " [0.33341092 0.33263338 0.33395568]]\n",
            "predicted class: [2 2 2 2 2]\n"
          ],
          "name": "stdout"
        },
        {
          "output_type": "display_data",
          "data": {
            "image/png": "[encoded data removed]",
            "text/plain": [
              "<Figure size 432x288 with 1 Axes>"
            ]
          },
          "metadata": {
            "tags": [],
            "needs_background": "light"
          }
        }
      ]
    },
    {
      "cell_type": "markdown",
      "metadata": {
        "id": "TyiDV7e0zPqK"
      },
      "source": [
        "## 💥Training"
      ]
    },
    {
      "cell_type": "code",
      "metadata": {
        "id": "Woo0eDDpzPqK",
        "colab": {
          "base_uri": "https://localhost:8080/"
        },
        "outputId": "53fadaf8-10be-4acd-b308-2e35c2745afe"
      },
      "source": [
        "model = build_model( \n",
        "    tf.keras.layers.Bidirectional(tf.keras.layers.LSTM(units=32, return_sequences=True)),\n",
        "    tf.keras.layers.Bidirectional(tf.keras.layers.LSTM(units=16, return_sequences=True)),\n",
        "    tf.keras.layers.Bidirectional(tf.keras.layers.LSTM(units=8, return_sequences=True)),\n",
        "    tf.keras.layers.GlobalAveragePooling1D(),\n",
        ")\n",
        "history = train_model(model)"
      ],
      "execution_count": null,
      "outputs": [
        {
          "output_type": "stream",
          "text": [
            "Model: \"sequential_1\"\n",
            "_________________________________________________________________\n",
            "Layer (type)                 Output Shape              Param #   \n",
            "=================================================================\n",
            "embedding_1 (Embedding)      (None, 57, 215)           5896590   \n",
            "_________________________________________________________________\n",
            "bidirectional (Bidirectional (None, 57, 64)            63488     \n",
            "_________________________________________________________________\n",
            "bidirectional_1 (Bidirection (None, 57, 32)            10368     \n",
            "_________________________________________________________________\n",
            "bidirectional_2 (Bidirection (None, 57, 16)            2624      \n",
            "_________________________________________________________________\n",
            "global_average_pooling1d_1 ( (None, 16)                0         \n",
            "_________________________________________________________________\n",
            "dropout_1 (Dropout)          (None, 16)                0         \n",
            "_________________________________________________________________\n",
            "dense_2 (Dense)              (None, 13713)             233121    \n",
            "_________________________________________________________________\n",
            "dense_3 (Dense)              (None, 3)                 41142     \n",
            "=================================================================\n",
            "Total params: 6,247,333\n",
            "Trainable params: 6,247,333\n",
            "Non-trainable params: 0\n",
            "_________________________________________________________________\n",
            "8098/8098 [==============================] - 604s 73ms/step - loss: 0.3894 - accuracy: 0.8676\n"
          ],
          "name": "stdout"
        }
      ]
    },
    {
      "cell_type": "markdown",
      "metadata": {
        "id": "8g5MaY76Wdt5"
      },
      "source": [
        "## Training completed"
      ]
    },
    {
      "cell_type": "markdown",
      "metadata": {
        "id": "Hq2GVWZxXAAI"
      },
      "source": [
        "### Result"
      ]
    },
    {
      "cell_type": "code",
      "metadata": {
        "id": "r_CWl08DWct_",
        "colab": {
          "base_uri": "https://localhost:8080/",
          "height": 513
        },
        "outputId": "ecc99f2b-d3a0-478c-91c0-638f9dde6fb2"
      },
      "source": [
        "plot(history, \"accuracy\", \"loss\")\n"
      ],
      "execution_count": null,
      "outputs": [
        {
          "output_type": "display_data",
          "data": {
            "image/png": "[encoded data removed]",
            "text/plain": [
              "<Figure size 432x288 with 1 Axes>"
            ]
          },
          "metadata": {
            "tags": [],
            "needs_background": "light"
          }
        },
        {
          "output_type": "display_data",
          "data": {
            "image/png": "[encoded data removed]",
            "text/plain": [
              "<Figure size 432x288 with 1 Axes>"
            ]
          },
          "metadata": {
            "tags": [],
            "needs_background": "light"
          }
        }
      ]
    },
    {
      "cell_type": "markdown",
      "metadata": {
        "id": "h9X33m5IXCQg"
      },
      "source": [
        "### Try to predict"
      ]
    },
    {
      "cell_type": "code",
      "metadata": {
        "id": "0AndRjZUzPqK",
        "colab": {
          "base_uri": "https://localhost:8080/",
          "height": 435
        },
        "outputId": "768d1bc2-8a80-4807-a663-d3ce5d1fab3e"
      },
      "source": [
        "predict(model, [\"good people\"])\n"
      ],
      "execution_count": null,
      "outputs": [
        {
          "output_type": "stream",
          "text": [
            "texts: ['good people']\n",
            "tokenized_texts: [[90, 111]]\n",
            "padded_texts: [[ 90 111   0   0   0   0   0   0   0   0   0   0   0   0   0   0   0   0\n",
            "    0   0   0   0   0   0   0   0   0   0   0   0   0   0   0   0   0   0\n",
            "    0   0   0   0   0   0   0   0   0   0   0   0   0   0   0   0   0   0\n",
            "    0   0   0]]\n",
            "predicted: [[0.07663379 0.6794242  0.24394202]]\n",
            "predicted class: [1]\n"
          ],
          "name": "stdout"
        },
        {
          "output_type": "display_data",
          "data": {
            "image/png": "[encoded data removed]",
            "text/plain": [
              "<Figure size 432x288 with 1 Axes>"
            ]
          },
          "metadata": {
            "tags": [],
            "needs_background": "light"
          }
        }
      ]
    },
    {
      "cell_type": "markdown",
      "metadata": {
        "id": "F7D9O-d3YvU8"
      },
      "source": [
        "### Evaluation"
      ]
    },
    {
      "cell_type": "code",
      "metadata": {
        "id": "_4hLpsxdYywD",
        "colab": {
          "base_uri": "https://localhost:8080/"
        },
        "outputId": "5b4be84c-c696-414a-c965-ba815a298600"
      },
      "source": [
        "evaluate_model(model)"
      ],
      "execution_count": null,
      "outputs": [
        {
          "output_type": "stream",
          "text": [
            "Evaluate on test data\n",
            "1430/1430 [==============================] - 14s 9ms/step - loss: 0.9692 - accuracy: 0.8022\n"
          ],
          "name": "stdout"
        }
      ]
    }
  ]
}