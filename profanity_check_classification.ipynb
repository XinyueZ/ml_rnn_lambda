{
  "nbformat": 4,
  "nbformat_minor": 0,
  "metadata": {
    "language_info": {
      "codemirror_mode": {
        "name": "ipython",
        "version": 3
      },
      "file_extension": ".py",
      "mimetype": "text/x-python",
      "name": "python",
      "nbconvert_exporter": "python",
      "pygments_lexer": "ipython3",
      "version": "3.8.2-final"
    },
    "orig_nbformat": 2,
    "kernelspec": {
      "name": "python3",
      "display_name": "Python 3",
      "language": "python"
    },
    "colab": {
      "name": "profanity_check_classification.ipynb",
      "provenance": [],
      "collapsed_sections": [],
      "machine_shape": "hm"
    },
    "accelerator": "GPU"
  },
  "cells": [
    {
      "cell_type": "markdown",
      "metadata": {
        "id": "uePUI0owzPqD"
      },
      "source": [
        "# Check the sentence profanity classification\n",
        "\n",
        "\n",
        "\n",
        "|  hate speech  | offensive language  |  neither |  \n",
        "|---|---|---| \n",
        "| 0  |  1 |  2 |  "
      ]
    },
    {
      "cell_type": "code",
      "metadata": {
        "id": "rDFFmSIQzPqG"
      },
      "source": [
        "import tensorflow as tf\n",
        "import numpy as np\n",
        "import pandas as pd\n",
        "import itertools\n",
        "import re\n",
        "import os\n",
        "import math\n",
        "import pprint as pp\n"
      ],
      "execution_count": 1,
      "outputs": []
    },
    {
      "cell_type": "markdown",
      "metadata": {
        "id": "hHAJOzYMzPqG"
      },
      "source": [
        "# Data "
      ]
    },
    {
      "cell_type": "markdown",
      "metadata": {
        "id": "VKdTV0qszPqG"
      },
      "source": [
        "## Download data"
      ]
    },
    {
      "cell_type": "code",
      "metadata": {
        "id": "sP84s-E4zPqG",
        "colab": {
          "base_uri": "https://localhost:8080/"
        },
        "outputId": "02c7f841-22aa-4461-b412-0ed08ffecb1e"
      },
      "source": [
        "URL = \"https://dl.dropbox.com/s/ewpit86gekpiwk5/hate_dirty_peech_labeled_data.tsv\"\n",
        "path = tf.keras.utils.get_file(URL.split('/')[-1], URL)\n",
        "data = pd.read_csv(path, sep=\"\\t\")\n"
      ],
      "execution_count": 2,
      "outputs": [
        {
          "output_type": "stream",
          "text": [
            "Downloading data from https://dl.dropbox.com/s/ewpit86gekpiwk5/hate_dirty_peech_labeled_data.tsv\n",
            "2555904/2552512 [==============================] - 1s 0us/step\n"
          ],
          "name": "stdout"
        }
      ]
    },
    {
      "cell_type": "markdown",
      "metadata": {
        "id": "rmQwuSjfzPqG"
      },
      "source": [
        "## Shuffle data"
      ]
    },
    {
      "cell_type": "code",
      "metadata": {
        "colab": {
          "base_uri": "https://localhost:8080/",
          "height": 250
        },
        "id": "lPIuKe19zPqH",
        "outputId": "7d4dfd5f-42b4-4a86-b788-9cc8356d4dff"
      },
      "source": [
        "data = data.sample(frac=1)\n",
        "data.head()\n"
      ],
      "execution_count": 3,
      "outputs": [
        {
          "output_type": "execute_result",
          "data": {
            "text/html": [
              "<div>\n",
              "<style scoped>\n",
              "    .dataframe tbody tr th:only-of-type {\n",
              "        vertical-align: middle;\n",
              "    }\n",
              "\n",
              "    .dataframe tbody tr th {\n",
              "        vertical-align: top;\n",
              "    }\n",
              "\n",
              "    .dataframe thead th {\n",
              "        text-align: right;\n",
              "    }\n",
              "</style>\n",
              "<table border=\"1\" class=\"dataframe\">\n",
              "  <thead>\n",
              "    <tr style=\"text-align: right;\">\n",
              "      <th></th>\n",
              "      <th>Unnamed: 0</th>\n",
              "      <th>count</th>\n",
              "      <th>hate_speech</th>\n",
              "      <th>offensive_language</th>\n",
              "      <th>neither</th>\n",
              "      <th>class</th>\n",
              "      <th>tweet</th>\n",
              "    </tr>\n",
              "  </thead>\n",
              "  <tbody>\n",
              "    <tr>\n",
              "      <th>20161</th>\n",
              "      <td>20613</td>\n",
              "      <td>3</td>\n",
              "      <td>1</td>\n",
              "      <td>2</td>\n",
              "      <td>0</td>\n",
              "      <td>1</td>\n",
              "      <td>RT @therealelp: from @CNN tonight: \" N word or...</td>\n",
              "    </tr>\n",
              "    <tr>\n",
              "      <th>17097</th>\n",
              "      <td>17495</td>\n",
              "      <td>3</td>\n",
              "      <td>2</td>\n",
              "      <td>1</td>\n",
              "      <td>0</td>\n",
              "      <td>0</td>\n",
              "      <td>RT @RihannaHasAids: aight game over. dykes had...</td>\n",
              "    </tr>\n",
              "    <tr>\n",
              "      <th>14848</th>\n",
              "      <td>15211</td>\n",
              "      <td>3</td>\n",
              "      <td>1</td>\n",
              "      <td>2</td>\n",
              "      <td>0</td>\n",
              "      <td>1</td>\n",
              "      <td>RT @DETROITSWEETS_: U gotta be retarded to ski...</td>\n",
              "    </tr>\n",
              "    <tr>\n",
              "      <th>2720</th>\n",
              "      <td>2793</td>\n",
              "      <td>3</td>\n",
              "      <td>0</td>\n",
              "      <td>3</td>\n",
              "      <td>0</td>\n",
              "      <td>1</td>\n",
              "      <td>@CMBGaming11 @BeechHD oh you mean like how you...</td>\n",
              "    </tr>\n",
              "    <tr>\n",
              "      <th>3164</th>\n",
              "      <td>3253</td>\n",
              "      <td>3</td>\n",
              "      <td>0</td>\n",
              "      <td>1</td>\n",
              "      <td>2</td>\n",
              "      <td>2</td>\n",
              "      <td>@FightNightX @NMF4Life khan has been facing no...</td>\n",
              "    </tr>\n",
              "  </tbody>\n",
              "</table>\n",
              "</div>"
            ],
            "text/plain": [
              "       Unnamed: 0  ...                                              tweet\n",
              "20161       20613  ...  RT @therealelp: from @CNN tonight: \" N word or...\n",
              "17097       17495  ...  RT @RihannaHasAids: aight game over. dykes had...\n",
              "14848       15211  ...  RT @DETROITSWEETS_: U gotta be retarded to ski...\n",
              "2720         2793  ...  @CMBGaming11 @BeechHD oh you mean like how you...\n",
              "3164         3253  ...  @FightNightX @NMF4Life khan has been facing no...\n",
              "\n",
              "[5 rows x 7 columns]"
            ]
          },
          "metadata": {
            "tags": []
          },
          "execution_count": 3
        }
      ]
    },
    {
      "cell_type": "markdown",
      "metadata": {
        "id": "pSGieyw2zPqH"
      },
      "source": [
        "## Clean data"
      ]
    },
    {
      "cell_type": "code",
      "metadata": {
        "colab": {
          "base_uri": "https://localhost:8080/",
          "height": 1000
        },
        "id": "QPcAM7jnzPqH",
        "outputId": "69635bbc-b2f3-403d-c913-120e478c13cf"
      },
      "source": [
        "data = data[pd.notnull(data['class'])]\n",
        "data = data[pd.notnull(data['tweet'])]\n",
        "data = data.drop(data.columns[0], axis=1) \n",
        "data = data.drop(columns=['count', 'hate_speech', 'offensive_language', 'neither']) \n",
        " \n",
        "data[\"tweet\"] = data[\"tweet\"].apply(lambda elem: re.sub(r\"(@[A-Za-z0-9]+)|([^0-9A-Za-z \\t])|(\\w+:\\/\\/\\S+)|^rt|http.+?\", \"\", elem)) \n",
        "\n",
        "data[\"label\"] = data[\"class\"]\n",
        "\n",
        "# class = class label for majority of CF users. 0 - hate speech 1 - offensive language 2 - neither\n",
        "data['class'].astype(str)\n",
        "data = data.replace({'class': {0: \"hate speech\", 1: \"offensive language\", 2: \"neither\"}})\n",
        "\n",
        "# Print the first first five rows as default\n",
        "data.head(50)\n"
      ],
      "execution_count": 4,
      "outputs": [
        {
          "output_type": "execute_result",
          "data": {
            "text/html": [
              "<div>\n",
              "<style scoped>\n",
              "    .dataframe tbody tr th:only-of-type {\n",
              "        vertical-align: middle;\n",
              "    }\n",
              "\n",
              "    .dataframe tbody tr th {\n",
              "        vertical-align: top;\n",
              "    }\n",
              "\n",
              "    .dataframe thead th {\n",
              "        text-align: right;\n",
              "    }\n",
              "</style>\n",
              "<table border=\"1\" class=\"dataframe\">\n",
              "  <thead>\n",
              "    <tr style=\"text-align: right;\">\n",
              "      <th></th>\n",
              "      <th>class</th>\n",
              "      <th>tweet</th>\n",
              "      <th>label</th>\n",
              "    </tr>\n",
              "  </thead>\n",
              "  <tbody>\n",
              "    <tr>\n",
              "      <th>20161</th>\n",
              "      <td>offensive language</td>\n",
              "      <td>RT  from  tonight  N word or crackerwhich is m...</td>\n",
              "      <td>1</td>\n",
              "    </tr>\n",
              "    <tr>\n",
              "      <th>17097</th>\n",
              "      <td>hate speech</td>\n",
              "      <td>RT  aight game over dykes had to ruin it</td>\n",
              "      <td>0</td>\n",
              "    </tr>\n",
              "    <tr>\n",
              "      <th>14848</th>\n",
              "      <td>offensive language</td>\n",
              "      <td>RT  U gotta be retarded to skip class in college</td>\n",
              "      <td>1</td>\n",
              "    </tr>\n",
              "    <tr>\n",
              "      <th>2720</th>\n",
              "      <td>offensive language</td>\n",
              "      <td>oh you mean like how you started to be a cun...</td>\n",
              "      <td>1</td>\n",
              "    </tr>\n",
              "    <tr>\n",
              "      <th>3164</th>\n",
              "      <td>neither</td>\n",
              "      <td>khan has been facing nothing but trash since...</td>\n",
              "      <td>2</td>\n",
              "    </tr>\n",
              "    <tr>\n",
              "      <th>24036</th>\n",
              "      <td>offensive language</td>\n",
              "      <td>if dey go to linch together she gon eat that p...</td>\n",
              "      <td>1</td>\n",
              "    </tr>\n",
              "    <tr>\n",
              "      <th>16076</th>\n",
              "      <td>offensive language</td>\n",
              "      <td>RT Dace SO to them side hos that know they the...</td>\n",
              "      <td>1</td>\n",
              "    </tr>\n",
              "    <tr>\n",
              "      <th>8273</th>\n",
              "      <td>offensive language</td>\n",
              "      <td>COME TO TND Atrocities starts at 7 followed by...</td>\n",
              "      <td>1</td>\n",
              "    </tr>\n",
              "    <tr>\n",
              "      <th>12426</th>\n",
              "      <td>offensive language</td>\n",
              "      <td>Like my 3rd grade teacher used to say you eith...</td>\n",
              "      <td>1</td>\n",
              "    </tr>\n",
              "    <tr>\n",
              "      <th>691</th>\n",
              "      <td>neither</td>\n",
              "      <td>DerekJeter as a lifelong Yankees man I will mi...</td>\n",
              "      <td>2</td>\n",
              "    </tr>\n",
              "    <tr>\n",
              "      <th>11759</th>\n",
              "      <td>offensive language</td>\n",
              "      <td>Im trying to come back as a fine ass bitch nex...</td>\n",
              "      <td>1</td>\n",
              "    </tr>\n",
              "    <tr>\n",
              "      <th>6480</th>\n",
              "      <td>hate speech</td>\n",
              "      <td>g3 128514128514Alright fag what about this</td>\n",
              "      <td>0</td>\n",
              "    </tr>\n",
              "    <tr>\n",
              "      <th>5720</th>\n",
              "      <td>offensive language</td>\n",
              "      <td>128514128514128514 you tried to bit my bottom...</td>\n",
              "      <td>1</td>\n",
              "    </tr>\n",
              "    <tr>\n",
              "      <th>15510</th>\n",
              "      <td>offensive language</td>\n",
              "      <td>RT  1 RT  Me RT   the fat bitch whos fat but t...</td>\n",
              "      <td>1</td>\n",
              "    </tr>\n",
              "    <tr>\n",
              "      <th>10981</th>\n",
              "      <td>offensive language</td>\n",
              "      <td>I told that chick tell the truth if you the re...</td>\n",
              "      <td>1</td>\n",
              "    </tr>\n",
              "    <tr>\n",
              "      <th>19273</th>\n",
              "      <td>offensive language</td>\n",
              "      <td>RT  maybe all these fake bitches will pretend ...</td>\n",
              "      <td>1</td>\n",
              "    </tr>\n",
              "    <tr>\n",
              "      <th>18085</th>\n",
              "      <td>offensive language</td>\n",
              "      <td>RT  How girls become friends Omg I love your s...</td>\n",
              "      <td>1</td>\n",
              "    </tr>\n",
              "    <tr>\n",
              "      <th>24677</th>\n",
              "      <td>offensive language</td>\n",
              "      <td>whheeet bitch you LYING</td>\n",
              "      <td>1</td>\n",
              "    </tr>\n",
              "    <tr>\n",
              "      <th>22083</th>\n",
              "      <td>offensive language</td>\n",
              "      <td>This lame azz napk nigga always talking bout h...</td>\n",
              "      <td>1</td>\n",
              "    </tr>\n",
              "    <tr>\n",
              "      <th>3378</th>\n",
              "      <td>offensive language</td>\n",
              "      <td>told you them bitches was mad even g</td>\n",
              "      <td>1</td>\n",
              "    </tr>\n",
              "    <tr>\n",
              "      <th>9888</th>\n",
              "      <td>offensive language</td>\n",
              "      <td>Horny mature babe in a kimono has her pussy fi...</td>\n",
              "      <td>1</td>\n",
              "    </tr>\n",
              "    <tr>\n",
              "      <th>21206</th>\n",
              "      <td>hate speech</td>\n",
              "      <td>Subtweet me one more time you dirty chink whore</td>\n",
              "      <td>0</td>\n",
              "    </tr>\n",
              "    <tr>\n",
              "      <th>23798</th>\n",
              "      <td>offensive language</td>\n",
              "      <td>everybody gettin sick I feel like supa man in ...</td>\n",
              "      <td>1</td>\n",
              "    </tr>\n",
              "    <tr>\n",
              "      <th>363</th>\n",
              "      <td>offensive language</td>\n",
              "      <td>Im rea start smacking bitches period  Bluffin...</td>\n",
              "      <td>1</td>\n",
              "    </tr>\n",
              "    <tr>\n",
              "      <th>16051</th>\n",
              "      <td>offensive language</td>\n",
              "      <td>RT  lmfaooo like is this bitch alanah serious</td>\n",
              "      <td>1</td>\n",
              "    </tr>\n",
              "    <tr>\n",
              "      <th>16229</th>\n",
              "      <td>offensive language</td>\n",
              "      <td>RT  Call my son nigger even respectable white ...</td>\n",
              "      <td>1</td>\n",
              "    </tr>\n",
              "    <tr>\n",
              "      <th>1084</th>\n",
              "      <td>neither</td>\n",
              "      <td>8220   Orton is trash idc8221 he aint been pla...</td>\n",
              "      <td>2</td>\n",
              "    </tr>\n",
              "    <tr>\n",
              "      <th>16250</th>\n",
              "      <td>offensive language</td>\n",
              "      <td>RT  Kicked the soul outta dis bitch</td>\n",
              "      <td>1</td>\n",
              "    </tr>\n",
              "    <tr>\n",
              "      <th>10370</th>\n",
              "      <td>offensive language</td>\n",
              "      <td>I got no pic up lines I stay on my grind I tel...</td>\n",
              "      <td>1</td>\n",
              "    </tr>\n",
              "    <tr>\n",
              "      <th>15582</th>\n",
              "      <td>offensive language</td>\n",
              "      <td>RT  Lmao 8220 A hoes best excuse is it just ha...</td>\n",
              "      <td>1</td>\n",
              "    </tr>\n",
              "    <tr>\n",
              "      <th>20243</th>\n",
              "      <td>offensive language</td>\n",
              "      <td>RT  i have never screamed so much like a littl...</td>\n",
              "      <td>1</td>\n",
              "    </tr>\n",
              "    <tr>\n",
              "      <th>931</th>\n",
              "      <td>neither</td>\n",
              "      <td>128027128176128184 8220 its true that the earl...</td>\n",
              "      <td>2</td>\n",
              "    </tr>\n",
              "    <tr>\n",
              "      <th>21583</th>\n",
              "      <td>offensive language</td>\n",
              "      <td>The nerve of people though Cant take nobody se...</td>\n",
              "      <td>1</td>\n",
              "    </tr>\n",
              "    <tr>\n",
              "      <th>12225</th>\n",
              "      <td>offensive language</td>\n",
              "      <td>Kierstens a bitch Squid hands squid hands128025</td>\n",
              "      <td>1</td>\n",
              "    </tr>\n",
              "    <tr>\n",
              "      <th>8839</th>\n",
              "      <td>offensive language</td>\n",
              "      <td>Drake gets the bitches</td>\n",
              "      <td>1</td>\n",
              "    </tr>\n",
              "    <tr>\n",
              "      <th>16343</th>\n",
              "      <td>offensive language</td>\n",
              "      <td>RT  OMG Hahaha best thing you will watch today...</td>\n",
              "      <td>1</td>\n",
              "    </tr>\n",
              "    <tr>\n",
              "      <th>4552</th>\n",
              "      <td>offensive language</td>\n",
              "      <td>Drake is bitch made for that likes Phonte so ...</td>\n",
              "      <td>1</td>\n",
              "    </tr>\n",
              "    <tr>\n",
              "      <th>13878</th>\n",
              "      <td>offensive language</td>\n",
              "      <td>Poppy give me discounts bitch i get it for the...</td>\n",
              "      <td>1</td>\n",
              "    </tr>\n",
              "    <tr>\n",
              "      <th>15157</th>\n",
              "      <td>offensive language</td>\n",
              "      <td>RT  Stoner Chicks gt Drunk hoes</td>\n",
              "      <td>1</td>\n",
              "    </tr>\n",
              "    <tr>\n",
              "      <th>21751</th>\n",
              "      <td>offensive language</td>\n",
              "      <td>These groupie bitches wild enough to suck a ba...</td>\n",
              "      <td>1</td>\n",
              "    </tr>\n",
              "    <tr>\n",
              "      <th>20425</th>\n",
              "      <td>offensive language</td>\n",
              "      <td>RT  who let gabby get drunk off of her ass giv...</td>\n",
              "      <td>1</td>\n",
              "    </tr>\n",
              "    <tr>\n",
              "      <th>653</th>\n",
              "      <td>neither</td>\n",
              "      <td>2013Faves RT 8220 Snoop and Justin are having ...</td>\n",
              "      <td>2</td>\n",
              "    </tr>\n",
              "    <tr>\n",
              "      <th>9476</th>\n",
              "      <td>offensive language</td>\n",
              "      <td>Gonna make a chicken sandwich put half a bottl...</td>\n",
              "      <td>1</td>\n",
              "    </tr>\n",
              "    <tr>\n",
              "      <th>12140</th>\n",
              "      <td>neither</td>\n",
              "      <td>Just posted a photo  Yankee Stadium</td>\n",
              "      <td>2</td>\n",
              "    </tr>\n",
              "    <tr>\n",
              "      <th>10516</th>\n",
              "      <td>hate speech</td>\n",
              "      <td>I hate you niccas Lol</td>\n",
              "      <td>0</td>\n",
              "    </tr>\n",
              "    <tr>\n",
              "      <th>9143</th>\n",
              "      <td>offensive language</td>\n",
              "      <td>Football the only thing I got no bae I dont go...</td>\n",
              "      <td>1</td>\n",
              "    </tr>\n",
              "    <tr>\n",
              "      <th>20680</th>\n",
              "      <td>offensive language</td>\n",
              "      <td>Sesh with my nwords say it like a white kid ye...</td>\n",
              "      <td>1</td>\n",
              "    </tr>\n",
              "    <tr>\n",
              "      <th>7574</th>\n",
              "      <td>offensive language</td>\n",
              "      <td>All bitches need a bus driver uppercut a Chris...</td>\n",
              "      <td>1</td>\n",
              "    </tr>\n",
              "    <tr>\n",
              "      <th>9332</th>\n",
              "      <td>offensive language</td>\n",
              "      <td>Fucking twat RT  Xavi checking the grass HAHA</td>\n",
              "      <td>1</td>\n",
              "    </tr>\n",
              "    <tr>\n",
              "      <th>16150</th>\n",
              "      <td>offensive language</td>\n",
              "      <td>RT  I dont stand in line at clubs the security...</td>\n",
              "      <td>1</td>\n",
              "    </tr>\n",
              "  </tbody>\n",
              "</table>\n",
              "</div>"
            ],
            "text/plain": [
              "                    class  ... label\n",
              "20161  offensive language  ...     1\n",
              "17097         hate speech  ...     0\n",
              "14848  offensive language  ...     1\n",
              "2720   offensive language  ...     1\n",
              "3164              neither  ...     2\n",
              "24036  offensive language  ...     1\n",
              "16076  offensive language  ...     1\n",
              "8273   offensive language  ...     1\n",
              "12426  offensive language  ...     1\n",
              "691               neither  ...     2\n",
              "11759  offensive language  ...     1\n",
              "6480          hate speech  ...     0\n",
              "5720   offensive language  ...     1\n",
              "15510  offensive language  ...     1\n",
              "10981  offensive language  ...     1\n",
              "19273  offensive language  ...     1\n",
              "18085  offensive language  ...     1\n",
              "24677  offensive language  ...     1\n",
              "22083  offensive language  ...     1\n",
              "3378   offensive language  ...     1\n",
              "9888   offensive language  ...     1\n",
              "21206         hate speech  ...     0\n",
              "23798  offensive language  ...     1\n",
              "363    offensive language  ...     1\n",
              "16051  offensive language  ...     1\n",
              "16229  offensive language  ...     1\n",
              "1084              neither  ...     2\n",
              "16250  offensive language  ...     1\n",
              "10370  offensive language  ...     1\n",
              "15582  offensive language  ...     1\n",
              "20243  offensive language  ...     1\n",
              "931               neither  ...     2\n",
              "21583  offensive language  ...     1\n",
              "12225  offensive language  ...     1\n",
              "8839   offensive language  ...     1\n",
              "16343  offensive language  ...     1\n",
              "4552   offensive language  ...     1\n",
              "13878  offensive language  ...     1\n",
              "15157  offensive language  ...     1\n",
              "21751  offensive language  ...     1\n",
              "20425  offensive language  ...     1\n",
              "653               neither  ...     2\n",
              "9476   offensive language  ...     1\n",
              "12140             neither  ...     2\n",
              "10516         hate speech  ...     0\n",
              "9143   offensive language  ...     1\n",
              "20680  offensive language  ...     1\n",
              "7574   offensive language  ...     1\n",
              "9332   offensive language  ...     1\n",
              "16150  offensive language  ...     1\n",
              "\n",
              "[50 rows x 3 columns]"
            ]
          },
          "metadata": {
            "tags": []
          },
          "execution_count": 4
        }
      ]
    },
    {
      "cell_type": "markdown",
      "metadata": {
        "id": "5j4_DcNtzPqH"
      },
      "source": [
        "# Create texts and labels"
      ]
    },
    {
      "cell_type": "markdown",
      "metadata": {
        "id": "xyS1ICeRzPqH"
      },
      "source": [
        "## Create labels"
      ]
    },
    {
      "cell_type": "code",
      "metadata": {
        "colab": {
          "base_uri": "https://localhost:8080/"
        },
        "id": "doxHcFgFzPqI",
        "outputId": "4a3bf315-514e-4c60-e59a-c6dbcfe3653e"
      },
      "source": [
        "labels = data[\"label\"].to_list()\n",
        "print(labels[:10])\n"
      ],
      "execution_count": 5,
      "outputs": [
        {
          "output_type": "stream",
          "text": [
            "[1, 0, 1, 1, 2, 1, 1, 1, 1, 2]\n"
          ],
          "name": "stdout"
        }
      ]
    },
    {
      "cell_type": "code",
      "metadata": {
        "colab": {
          "base_uri": "https://localhost:8080/"
        },
        "id": "UjjUdYTmzPqI",
        "outputId": "397fb43c-a9d0-4279-8b13-f3d18bdd9e4e"
      },
      "source": [
        "label_count = len(set(labels))\n",
        "print(label_count)\n"
      ],
      "execution_count": 6,
      "outputs": [
        {
          "output_type": "stream",
          "text": [
            "3\n"
          ],
          "name": "stdout"
        }
      ]
    },
    {
      "cell_type": "markdown",
      "metadata": {
        "id": "I9iK9p2CzPqI"
      },
      "source": [
        "### Create texts sequences"
      ]
    },
    {
      "cell_type": "code",
      "metadata": {
        "colab": {
          "base_uri": "https://localhost:8080/"
        },
        "id": "VNYMcdCfzPqI",
        "outputId": "28522b20-034f-4f10-b273-6626a1a2478c"
      },
      "source": [
        "texts = data[\"tweet\"].to_numpy()\n",
        "type(texts)\n",
        "print(texts[:10])\n"
      ],
      "execution_count": 7,
      "outputs": [
        {
          "output_type": "stream",
          "text": [
            "['RT  from  tonight  N word or crackerwhich is more offensive probably the one you wont spell out you fucking hacks8230'\n",
            " 'RT  aight game over dykes had to ruin it '\n",
            " 'RT  U gotta be retarded to skip class in college'\n",
            " '  oh you mean like how you started to be a cunt to JP about something that has nothing to do with you'\n",
            " '  khan has been facing nothing but trash since his L to Garcia'\n",
            " 'if dey go to linch together she gon eat that pussy befo they come back'\n",
            " 'RT Dace SO to them side hos that know they the side hos we need more of ya'\n",
            " 'COME TO TND Atrocities starts at 7 followed by Lost Cause Auramea Night Verses and NORMA JEAN Lets fill this bitch'\n",
            " 'Like my 3rd grade teacher used to say you either eat pussy or you are one whats it gonna be  '\n",
            " 'DerekJeter as a lifelong Yankees man I will miss you FirstBallot Unanimous']\n"
          ],
          "name": "stdout"
        }
      ]
    },
    {
      "cell_type": "code",
      "metadata": {
        "id": "bOTsMY2lzPqI"
      },
      "source": [
        "tokenizer = tf.keras.preprocessing.text.Tokenizer()\n",
        "tokenizer.fit_on_texts(texts)\n"
      ],
      "execution_count": 8,
      "outputs": []
    },
    {
      "cell_type": "code",
      "metadata": {
        "colab": {
          "base_uri": "https://localhost:8080/"
        },
        "id": "RD9WyuHyzPqI",
        "outputId": "55a07b70-f6db-4334-e432-8fdad960532b"
      },
      "source": [
        "word_index = tokenizer.word_index\n",
        "total_words = len(word_index) + 1\n",
        "print(total_words) \n"
      ],
      "execution_count": 9,
      "outputs": [
        {
          "output_type": "stream",
          "text": [
            "27426\n"
          ],
          "name": "stdout"
        }
      ]
    },
    {
      "cell_type": "code",
      "metadata": {
        "colab": {
          "base_uri": "https://localhost:8080/"
        },
        "id": "0jZJabL4zPqI",
        "outputId": "5bf3b0dd-058c-4db3-865e-8cede713066c"
      },
      "source": [
        "sequences = tokenizer.texts_to_sequences(texts)\n",
        "total_sequences = len(sequences)\n",
        "print(total_sequences)\n",
        "print(sequences[:10])\n"
      ],
      "execution_count": 10,
      "outputs": [
        {
          "output_type": "stream",
          "text": [
            "24776\n",
            "[[3, 83, 315, 169, 436, 73, 10654, 13, 120, 1264, 408, 5, 71, 6, 263, 1633, 55, 6, 78, 10655], [3, 4634, 206, 124, 1177, 125, 7, 3446, 24], [3, 43, 145, 18, 175, 7, 4635, 498, 11, 1105], [224, 6, 250, 14, 69, 6, 683, 7, 18, 1, 181, 7, 7281, 59, 233, 10, 158, 271, 7, 64, 26, 6], [5673, 158, 128, 3447, 271, 34, 53, 374, 89, 1805, 7, 10656], [32, 793, 79, 7, 10657, 601, 51, 279, 167, 10, 22, 5674, 38, 146, 105], [3, 10658, 37, 7, 70, 235, 1305, 10, 65, 38, 5, 235, 1305, 68, 104, 120, 16, 97], [146, 7, 10659, 10660, 1806, 54, 1072, 1566, 123, 479, 150, 10661, 251, 7282, 8, 10662, 7283, 382, 3932, 20, 2], [14, 9, 2568, 945, 1073, 452, 7, 95, 6, 459, 167, 22, 73, 6, 50, 71, 387, 24, 153, 18], [5675, 74, 1, 7284, 193, 91, 4, 107, 472, 6, 10663, 10664]]\n"
          ],
          "name": "stdout"
        }
      ]
    },
    {
      "cell_type": "markdown",
      "metadata": {
        "id": "zzNbdEiHhn3B"
      },
      "source": [
        "#### 🍼Define max length "
      ]
    },
    {
      "cell_type": "code",
      "metadata": {
        "colab": {
          "base_uri": "https://localhost:8080/"
        },
        "id": "K1GXkrCqzPqI",
        "outputId": "f6aec337-a525-427d-82cc-e4da1a8ae9d2"
      },
      "source": [
        "max_len = max([len(s) for s in sequences])\n",
        "print(max_len)\n",
        "max_len =  int(max_len / 3.6)\n",
        "print(max_len)\n"
      ],
      "execution_count": 11,
      "outputs": [
        {
          "output_type": "stream",
          "text": [
            "57\n",
            "15\n"
          ],
          "name": "stdout"
        }
      ]
    },
    {
      "cell_type": "markdown",
      "metadata": {
        "id": "8sWg1P0Z3yoZ"
      },
      "source": [
        "### Shift each sequence to generate more \"texts\""
      ]
    },
    {
      "cell_type": "code",
      "metadata": {
        "id": "5JugHj7s96BE"
      },
      "source": [
        "def shift_sequences(unshifted_sequences, labels):\n",
        "  shifted = []\n",
        "  i = -1\n",
        "  for seq in unshifted_sequences:\n",
        "    i = i + 1\n",
        "    length = len(seq)\n",
        "    shifted.append((seq, labels[i]))\n",
        "    if length > 3: [shifted.append((seq[:-shift], labels[i])) for shift in range(1, length-1)]  \n",
        "  return shifted\n"
      ],
      "execution_count": 12,
      "outputs": []
    },
    {
      "cell_type": "code",
      "metadata": {
        "colab": {
          "base_uri": "https://localhost:8080/"
        },
        "id": "--D8dE0x-Z5P",
        "outputId": "ccc1bd50-ade7-4bf5-dce6-2dd58fb67837"
      },
      "source": [
        "shifted_sequences_labels = np.array(shift_sequences(sequences, labels))\n",
        "\n",
        "sequences = shifted_sequences_labels[:,:-1][:,0]\n",
        "print(sequences[:3])\n",
        "\n",
        "labels = shifted_sequences_labels[:,-1]\n",
        "print(labels[:3])\n",
        "\n",
        "total_sequences = len(sequences)\n",
        "print(total_sequences)"
      ],
      "execution_count": 13,
      "outputs": [
        {
          "output_type": "stream",
          "text": [
            "[list([3, 83, 315, 169, 436, 73, 10654, 13, 120, 1264, 408, 5, 71, 6, 263, 1633, 55, 6, 78, 10655])\n",
            " list([3, 83, 315, 169, 436, 73, 10654, 13, 120, 1264, 408, 5, 71, 6, 263, 1633, 55, 6, 78])\n",
            " list([3, 83, 315, 169, 436, 73, 10654, 13, 120, 1264, 408, 5, 71, 6, 263, 1633, 55, 6])]\n",
            "[1 1 1]\n",
            "304862\n"
          ],
          "name": "stdout"
        },
        {
          "output_type": "stream",
          "text": [
            "/usr/local/lib/python3.7/dist-packages/ipykernel_launcher.py:1: VisibleDeprecationWarning: Creating an ndarray from ragged nested sequences (which is a list-or-tuple of lists-or-tuples-or ndarrays with different lengths or shapes) is deprecated. If you meant to do this, you must specify 'dtype=object' when creating the ndarray\n",
            "  \"\"\"Entry point for launching an IPython kernel.\n"
          ],
          "name": "stderr"
        }
      ]
    },
    {
      "cell_type": "code",
      "metadata": {
        "id": "kuMejVrAzPqJ",
        "colab": {
          "base_uri": "https://localhost:8080/"
        },
        "outputId": "564dffb4-b452-4d75-e4ce-52cae8f13930"
      },
      "source": [
        "padded_sequences = tf.keras.preprocessing.sequence.pad_sequences(\n",
        "    sequences,\n",
        "    padding = \"post\",\n",
        "    maxlen = max_len\n",
        ")\n",
        "\n",
        "#padded_sequences = tf.expand_dims(padded_sequences, axis=-1)\n",
        "print(type(padded_sequences))\n",
        "print(padded_sequences[:5])\n",
        "\n",
        "labels = np.asarray(labels).astype(np.int)\n",
        "print(labels[:5])"
      ],
      "execution_count": 14,
      "outputs": [
        {
          "output_type": "stream",
          "text": [
            "<class 'numpy.ndarray'>\n",
            "[[   73 10654    13   120  1264   408     5    71     6   263  1633    55\n",
            "      6    78 10655]\n",
            " [  436    73 10654    13   120  1264   408     5    71     6   263  1633\n",
            "     55     6    78]\n",
            " [  169   436    73 10654    13   120  1264   408     5    71     6   263\n",
            "   1633    55     6]\n",
            " [  315   169   436    73 10654    13   120  1264   408     5    71     6\n",
            "    263  1633    55]\n",
            " [   83   315   169   436    73 10654    13   120  1264   408     5    71\n",
            "      6   263  1633]]\n",
            "[1 1 1 1 1]\n"
          ],
          "name": "stdout"
        }
      ]
    },
    {
      "cell_type": "markdown",
      "metadata": {
        "id": "FpLlIOZmzPqJ"
      },
      "source": [
        "## Divide training data and testing data"
      ]
    },
    {
      "cell_type": "markdown",
      "metadata": {
        "id": "DiLfq4poOqY1"
      },
      "source": [
        "### Training data"
      ]
    },
    {
      "cell_type": "code",
      "metadata": {
        "id": "ZFaMe88YzPqJ",
        "colab": {
          "base_uri": "https://localhost:8080/"
        },
        "outputId": "b6e740f5-0132-434d-c397-3c2a623b921f"
      },
      "source": [
        "boundary = int(.85 * total_sequences)\n",
        "\n",
        "training_sequences = padded_sequences[:boundary]\n",
        "training_labels = labels[:boundary]\n",
        "\n",
        "print(len(training_sequences))\n",
        "print(len(training_labels))\n",
        "\n",
        "print(training_sequences[:5])\n",
        "print(training_labels[:5])\n"
      ],
      "execution_count": 15,
      "outputs": [
        {
          "output_type": "stream",
          "text": [
            "259132\n",
            "259132\n",
            "[[   73 10654    13   120  1264   408     5    71     6   263  1633    55\n",
            "      6    78 10655]\n",
            " [  436    73 10654    13   120  1264   408     5    71     6   263  1633\n",
            "     55     6    78]\n",
            " [  169   436    73 10654    13   120  1264   408     5    71     6   263\n",
            "   1633    55     6]\n",
            " [  315   169   436    73 10654    13   120  1264   408     5    71     6\n",
            "    263  1633    55]\n",
            " [   83   315   169   436    73 10654    13   120  1264   408     5    71\n",
            "      6   263  1633]]\n",
            "[1 1 1 1 1]\n"
          ],
          "name": "stdout"
        }
      ]
    },
    {
      "cell_type": "markdown",
      "metadata": {
        "id": "2UvmuowkOykj"
      },
      "source": [
        "### Testing data"
      ]
    },
    {
      "cell_type": "code",
      "metadata": {
        "id": "2vuvLYAazPqJ",
        "colab": {
          "base_uri": "https://localhost:8080/"
        },
        "outputId": "e2e5918d-efae-44a8-eca6-328d19b00026"
      },
      "source": [
        "testing_sequences = padded_sequences[boundary:]\n",
        "testing_labels = labels[boundary:]\n",
        "\n",
        "total_testing_sequences = len(testing_sequences)\n",
        "print(total_testing_sequences)\n",
        "print(len(testing_labels))\n",
        "\n",
        "print(testing_sequences[:5])\n",
        "print(testing_labels[:5])\n"
      ],
      "execution_count": 16,
      "outputs": [
        {
          "output_type": "stream",
          "text": [
            "45730\n",
            "45730\n",
            "[[24949    86   158   103   900  1433  1924 24950   547    16  1425    50\n",
            "     17     5   400]\n",
            " [    5 24949    86   158   103   900  1433  1924 24950   547    16  1425\n",
            "     50    17     5]\n",
            " [    3     5 24949    86   158   103   900  1433  1924 24950   547    16\n",
            "   1425    50    17]\n",
            " [    3     5 24949    86   158   103   900  1433  1924 24950   547    16\n",
            "   1425    50     0]\n",
            " [    3     5 24949    86   158   103   900  1433  1924 24950   547    16\n",
            "   1425     0     0]]\n",
            "[2 2 2 2 2]\n"
          ],
          "name": "stdout"
        }
      ]
    },
    {
      "cell_type": "markdown",
      "metadata": {
        "id": "ORJCAMWIzPqJ"
      },
      "source": [
        "# Machine-learning"
      ]
    },
    {
      "cell_type": "markdown",
      "metadata": {
        "id": "KXt7TgZLzPqJ"
      },
      "source": [
        "## Hyperparameters"
      ]
    },
    {
      "cell_type": "code",
      "metadata": {
        "id": "RhhHicGfzPqJ"
      },
      "source": [
        "epochs = 50#100\n",
        "embedding_dim = 215\n"
      ],
      "execution_count": 17,
      "outputs": []
    },
    {
      "cell_type": "markdown",
      "metadata": {
        "id": "a_lSl3E5zPqK"
      },
      "source": [
        "## Utils, like output, graphic etc...."
      ]
    },
    {
      "cell_type": "markdown",
      "metadata": {
        "id": "qv14gV8kzPqK"
      },
      "source": [
        "### Table of *prediction*"
      ]
    },
    {
      "cell_type": "code",
      "metadata": {
        "id": "OLcXF9A4zPqK"
      },
      "source": [
        "import matplotlib.pyplot as plt\n",
        "\n",
        "def predict_output(texts, predicated_classes):\n",
        "    fig, ax = plt.subplots()\n",
        "    ax.axis('off')\n",
        "\n",
        "    predicated_classes = np.expand_dims(predicated_classes, axis=-1)\n",
        "\n",
        "    table = ax.table(\n",
        "             rowLabels=texts,  \n",
        "             colLabels=[\"classification\"],  \n",
        "             cellText=predicated_classes, \n",
        "             cellLoc=\"center\", \n",
        "             loc=\"center\"\n",
        "    )\n",
        "    table.scale(0.5, 1)  \n",
        "    \n",
        "    ax.set_title('0: \"hate speech\", 1: \"offensive language\", 2: \"neither\"',\n",
        "              fontweight =\"bold\")\n",
        "\n",
        "    fig.tight_layout()\n",
        "    plt.show()"
      ],
      "execution_count": 18,
      "outputs": []
    },
    {
      "cell_type": "markdown",
      "metadata": {
        "id": "P0CJdCjGQMtq"
      },
      "source": [
        "### 📊Grpahic of training"
      ]
    },
    {
      "cell_type": "code",
      "metadata": {
        "id": "4KZwvigwQQco"
      },
      "source": [
        "# PLOT LOSS AND ACCURACY\n",
        "%matplotlib inline\n",
        "\n",
        "import matplotlib.image  as mpimg\n",
        "import matplotlib.pyplot as plt\n",
        "\n",
        "def plot(history, m0, m1): \n",
        "  h_m0=history.history[m0] \n",
        "  h_m1=history.history[m1] \n",
        "  epochs=range(len(h_m0))  \n",
        "  plt.plot(epochs, h_m0, 'b', m0) \n",
        "  plt.figure()  \n",
        "  plt.plot(epochs, h_m1, 'b', m1)  "
      ],
      "execution_count": 19,
      "outputs": []
    },
    {
      "cell_type": "markdown",
      "metadata": {
        "id": "wvQ3lN3DzPqK"
      },
      "source": [
        "## Methods"
      ]
    },
    {
      "cell_type": "markdown",
      "metadata": {
        "id": "ZOkY2pnpsEKl"
      },
      "source": [
        "### 🎉Method of building model"
      ]
    },
    {
      "cell_type": "code",
      "metadata": {
        "id": "XOPw2Q7CsIs3"
      },
      "source": [
        "def build_model(*layers):\n",
        "    model = tf.keras.Sequential()\n",
        "    model.add(\n",
        "        tf.keras.layers.Embedding(\n",
        "            input_dim=total_words,\n",
        "            output_dim=embedding_dim,\n",
        "            input_shape=[None,]\n",
        "        ),\n",
        "    ) \n",
        "    [model.add(layer) for layer in layers]\n",
        "\n",
        "    model.add(tf.keras.layers.Dropout(.12))\n",
        "    model.add(tf.keras.layers.Dense(int(total_words / 2),\n",
        "                                    activation=tf.keras.activations.relu))\n",
        "    model.add(tf.keras.layers.Dense(label_count, activation=tf.keras.activations.softmax))\n",
        " \n",
        "    model.compile(\n",
        "        loss=tf.keras.losses.SparseCategoricalCrossentropy(),\n",
        "        optimizer=tf.keras.optimizers.Adam(),\n",
        "        metrics=[\"accuracy\"],\n",
        "    )\n",
        "    model.summary()\n",
        "\n",
        "    return model"
      ],
      "execution_count": 20,
      "outputs": []
    },
    {
      "cell_type": "code",
      "metadata": {
        "id": "pon-UHEWr8WM"
      },
      "source": [
        "earlyStop = tf.keras.callbacks.EarlyStopping(monitor=\"loss\", patience=3)"
      ],
      "execution_count": 21,
      "outputs": []
    },
    {
      "cell_type": "markdown",
      "metadata": {
        "id": "kbUGzVGfO-4X"
      },
      "source": [
        "### 🏋️‍♀️Method of traning "
      ]
    },
    {
      "cell_type": "code",
      "metadata": {
        "id": "L4Iue7JVr4ma"
      },
      "source": [
        "def train_model(model):\n",
        "    tf.keras.backend.clear_session()\n",
        "    tf.random.set_seed(51)\n",
        "    np.random.seed(51)\n",
        "\n",
        "    return model.fit(\n",
        "              x=training_sequences, \n",
        "              y=training_labels, \n",
        "              #validation_split\n",
        "              #validation_data=(valid_sequences, valid_labels)\n",
        "              #wont make sense see: https://stackoverflow.com/a/57391324/1835650\n",
        "              verbose=1,\n",
        "              epochs=epochs,\n",
        "              callbacks=[earlyStop])"
      ],
      "execution_count": 22,
      "outputs": []
    },
    {
      "cell_type": "markdown",
      "metadata": {
        "id": "ZKw4q_59UHCP"
      },
      "source": [
        "### Method of prediction"
      ]
    },
    {
      "cell_type": "code",
      "metadata": {
        "id": "FvrlJac2zPqK"
      },
      "source": [
        "def predict(model, texts):\n",
        "    tokenizer.fit_on_texts(texts)\n",
        "    tokenized_texts = tokenizer.texts_to_sequences(texts)\n",
        "    padded_texts = tf.keras.preprocessing.sequence.pad_sequences(\n",
        "        tokenized_texts,\n",
        "        maxlen = max_len,\n",
        "        padding = \"post\", \n",
        "    )\n",
        "    predicted = model.predict(padded_texts)\n",
        "    predicted_classes = np.argmax(predicted, axis=-1)\n",
        "\n",
        "    print(\"texts: {}\".format(texts))\n",
        "    print(\"tokenized_texts: {}\".format(tokenized_texts))\n",
        "    print(\"padded_texts: {}\".format(padded_texts))\n",
        "    print(\"predicted: {}\".format(predicted))\n",
        "    print(\"predicted class: {}\".format(predicted_classes))\n",
        "    predict_output(texts, predicted_classes)"
      ],
      "execution_count": 23,
      "outputs": []
    },
    {
      "cell_type": "markdown",
      "metadata": {
        "id": "cG8ew7nfUPQT"
      },
      "source": [
        "### Method of evaluation"
      ]
    },
    {
      "cell_type": "code",
      "metadata": {
        "id": "mAXajNvpUV0v"
      },
      "source": [
        "def evaluate_model(model):\n",
        "  print(\"Evaluate on test data\")\n",
        "  results = model.evaluate(testing_sequences, testing_labels) "
      ],
      "execution_count": 33,
      "outputs": []
    },
    {
      "cell_type": "markdown",
      "metadata": {
        "id": "XvJprfyBzPqK"
      },
      "source": [
        "## Try model without training"
      ]
    },
    {
      "cell_type": "code",
      "metadata": {
        "id": "ZUghAANhzPqK",
        "colab": {
          "base_uri": "https://localhost:8080/",
          "height": 919
        },
        "outputId": "6671c7f1-1476-4b26-c7b9-50e917312c5a"
      },
      "source": [
        "model = build_model(tf.keras.layers.GlobalAveragePooling1D())\n",
        "predict(model, [\"hello\", \"bad man\", \"fuck you\", \"suck you\", \"you bitch\"])"
      ],
      "execution_count": 25,
      "outputs": [
        {
          "output_type": "stream",
          "text": [
            "Model: \"sequential\"\n",
            "_________________________________________________________________\n",
            "Layer (type)                 Output Shape              Param #   \n",
            "=================================================================\n",
            "embedding (Embedding)        (None, None, 215)         5896590   \n",
            "_________________________________________________________________\n",
            "global_average_pooling1d (Gl (None, 215)               0         \n",
            "_________________________________________________________________\n",
            "dropout (Dropout)            (None, 215)               0         \n",
            "_________________________________________________________________\n",
            "dense (Dense)                (None, 13713)             2962008   \n",
            "_________________________________________________________________\n",
            "dense_1 (Dense)              (None, 3)                 41142     \n",
            "=================================================================\n",
            "Total params: 8,899,740\n",
            "Trainable params: 8,899,740\n",
            "Non-trainable params: 0\n",
            "_________________________________________________________________\n",
            "texts: ['hello', 'bad man', 'fuck you', 'suck you', 'you bitch']\n",
            "tokenized_texts: [[1581], [84, 91], [36, 6], [375, 6], [6, 2]]\n",
            "padded_texts: [[1581    0    0    0    0    0    0    0    0    0    0    0    0    0\n",
            "     0]\n",
            " [  84   91    0    0    0    0    0    0    0    0    0    0    0    0\n",
            "     0]\n",
            " [  36    6    0    0    0    0    0    0    0    0    0    0    0    0\n",
            "     0]\n",
            " [ 375    6    0    0    0    0    0    0    0    0    0    0    0    0\n",
            "     0]\n",
            " [   6    2    0    0    0    0    0    0    0    0    0    0    0    0\n",
            "     0]]\n",
            "predicted: [[0.3332821  0.33438402 0.33233386]\n",
            " [0.33320034 0.3344572  0.3323425 ]\n",
            " [0.33324525 0.33442914 0.33232555]\n",
            " [0.33318835 0.33438095 0.33243072]\n",
            " [0.33315045 0.33446324 0.3323863 ]]\n",
            "predicted class: [1 1 1 1 1]\n"
          ],
          "name": "stdout"
        },
        {
          "output_type": "display_data",
          "data": {
            "image/png": "[encoded data removed]",
            "text/plain": [
              "<Figure size 432x288 with 1 Axes>"
            ]
          },
          "metadata": {
            "tags": [],
            "needs_background": "light"
          }
        }
      ]
    },
    {
      "cell_type": "markdown",
      "metadata": {
        "id": "TyiDV7e0zPqK"
      },
      "source": [
        "## 💥Training"
      ]
    },
    {
      "cell_type": "code",
      "metadata": {
        "id": "Woo0eDDpzPqK",
        "colab": {
          "base_uri": "https://localhost:8080/"
        },
        "outputId": "73e71c6b-e196-4d17-a49b-e5ebea5e749e"
      },
      "source": [
        "model = build_model( \n",
        "    tf.keras.layers.Bidirectional(tf.keras.layers.LSTM(units=128, return_sequences=True)),\n",
        "    tf.keras.layers.Bidirectional(tf.keras.layers.LSTM(units=64,  return_sequences=True)),\n",
        "    tf.keras.layers.Bidirectional(tf.keras.layers.LSTM(units=32)),\n",
        ")\n",
        "history = train_model(model)"
      ],
      "execution_count": 26,
      "outputs": [
        {
          "output_type": "stream",
          "text": [
            "Model: \"sequential_1\"\n",
            "_________________________________________________________________\n",
            "Layer (type)                 Output Shape              Param #   \n",
            "=================================================================\n",
            "embedding_1 (Embedding)      (None, None, 215)         5896590   \n",
            "_________________________________________________________________\n",
            "bidirectional (Bidirectional (None, None, 256)         352256    \n",
            "_________________________________________________________________\n",
            "bidirectional_1 (Bidirection (None, None, 128)         164352    \n",
            "_________________________________________________________________\n",
            "bidirectional_2 (Bidirection (None, 64)                41216     \n",
            "_________________________________________________________________\n",
            "dropout_1 (Dropout)          (None, 64)                0         \n",
            "_________________________________________________________________\n",
            "dense_2 (Dense)              (None, 13713)             891345    \n",
            "_________________________________________________________________\n",
            "dense_3 (Dense)              (None, 3)                 41142     \n",
            "=================================================================\n",
            "Total params: 7,386,901\n",
            "Trainable params: 7,386,901\n",
            "Non-trainable params: 0\n",
            "_________________________________________________________________\n",
            "Epoch 1/50\n",
            "8098/8098 [==============================] - 365s 43ms/step - loss: 0.3395 - accuracy: 0.8815\n",
            "Epoch 2/50\n",
            "8098/8098 [==============================] - 345s 43ms/step - loss: 0.1180 - accuracy: 0.9582\n",
            "Epoch 3/50\n",
            "8098/8098 [==============================] - 347s 43ms/step - loss: 0.0826 - accuracy: 0.9698\n",
            "Epoch 4/50\n",
            "8098/8098 [==============================] - 349s 43ms/step - loss: 0.0659 - accuracy: 0.9761\n",
            "Epoch 5/50\n",
            "8098/8098 [==============================] - 351s 43ms/step - loss: 0.0551 - accuracy: 0.9797\n",
            "Epoch 6/50\n",
            "8098/8098 [==============================] - 350s 43ms/step - loss: 0.0479 - accuracy: 0.9823\n",
            "Epoch 7/50\n",
            "8098/8098 [==============================] - 348s 43ms/step - loss: 0.0429 - accuracy: 0.9842\n",
            "Epoch 8/50\n",
            "8098/8098 [==============================] - 347s 43ms/step - loss: 0.0379 - accuracy: 0.9857\n",
            "Epoch 9/50\n",
            "8098/8098 [==============================] - 347s 43ms/step - loss: 0.0365 - accuracy: 0.9864\n",
            "Epoch 10/50\n",
            "8098/8098 [==============================] - 347s 43ms/step - loss: 0.0356 - accuracy: 0.9869\n",
            "Epoch 11/50\n",
            "8098/8098 [==============================] - 346s 43ms/step - loss: 0.0330 - accuracy: 0.9874\n",
            "Epoch 12/50\n",
            "8098/8098 [==============================] - 347s 43ms/step - loss: 0.0314 - accuracy: 0.9880\n",
            "Epoch 13/50\n",
            "8098/8098 [==============================] - 348s 43ms/step - loss: 0.0306 - accuracy: 0.9879\n",
            "Epoch 14/50\n",
            "8098/8098 [==============================] - 346s 43ms/step - loss: 0.0296 - accuracy: 0.9885\n",
            "Epoch 15/50\n",
            "8098/8098 [==============================] - 352s 43ms/step - loss: 0.0289 - accuracy: 0.9887\n",
            "Epoch 16/50\n",
            "8098/8098 [==============================] - 351s 43ms/step - loss: 0.0284 - accuracy: 0.9885\n",
            "Epoch 17/50\n",
            "8098/8098 [==============================] - 353s 44ms/step - loss: 0.0287 - accuracy: 0.9887\n",
            "Epoch 18/50\n",
            "8098/8098 [==============================] - 350s 43ms/step - loss: 0.0278 - accuracy: 0.9888\n",
            "Epoch 19/50\n",
            "8098/8098 [==============================] - 348s 43ms/step - loss: 0.0278 - accuracy: 0.9891\n",
            "Epoch 20/50\n",
            "8098/8098 [==============================] - 348s 43ms/step - loss: 0.0272 - accuracy: 0.9891\n",
            "Epoch 21/50\n",
            "8098/8098 [==============================] - 348s 43ms/step - loss: 0.0271 - accuracy: 0.9891\n",
            "Epoch 22/50\n",
            "8098/8098 [==============================] - 347s 43ms/step - loss: 0.0270 - accuracy: 0.9896\n",
            "Epoch 23/50\n",
            "8098/8098 [==============================] - 348s 43ms/step - loss: 0.0261 - accuracy: 0.9897\n",
            "Epoch 24/50\n",
            "8098/8098 [==============================] - 347s 43ms/step - loss: 0.0265 - accuracy: 0.9892\n",
            "Epoch 25/50\n",
            "8098/8098 [==============================] - 347s 43ms/step - loss: 0.0273 - accuracy: 0.9891\n",
            "Epoch 26/50\n",
            "8098/8098 [==============================] - 347s 43ms/step - loss: 0.0261 - accuracy: 0.9894\n",
            "Epoch 27/50\n",
            "8098/8098 [==============================] - 348s 43ms/step - loss: 0.0254 - accuracy: 0.9896\n",
            "Epoch 28/50\n",
            "8098/8098 [==============================] - 348s 43ms/step - loss: 0.0260 - accuracy: 0.9892\n",
            "Epoch 29/50\n",
            "8098/8098 [==============================] - 347s 43ms/step - loss: 0.0260 - accuracy: 0.9893\n",
            "Epoch 30/50\n",
            "8098/8098 [==============================] - 348s 43ms/step - loss: 0.0257 - accuracy: 0.9895\n"
          ],
          "name": "stdout"
        }
      ]
    },
    {
      "cell_type": "markdown",
      "metadata": {
        "id": "8g5MaY76Wdt5"
      },
      "source": [
        "## Training completed"
      ]
    },
    {
      "cell_type": "markdown",
      "metadata": {
        "id": "Hq2GVWZxXAAI"
      },
      "source": [
        "### Result"
      ]
    },
    {
      "cell_type": "code",
      "metadata": {
        "id": "r_CWl08DWct_",
        "colab": {
          "base_uri": "https://localhost:8080/",
          "height": 513
        },
        "outputId": "bf6830c6-24f5-4393-92ef-dd92af7e653f"
      },
      "source": [
        "plot(history, \"accuracy\", \"loss\")\n"
      ],
      "execution_count": 27,
      "outputs": [
        {
          "output_type": "display_data",
          "data": {
            "image/png": "[encoded data removed]",
            "text/plain": [
              "<Figure size 432x288 with 1 Axes>"
            ]
          },
          "metadata": {
            "tags": [],
            "needs_background": "light"
          }
        },
        {
          "output_type": "display_data",
          "data": {
            "image/png": "[encoded data removed]",
            "text/plain": [
              "<Figure size 432x288 with 1 Axes>"
            ]
          },
          "metadata": {
            "tags": [],
            "needs_background": "light"
          }
        }
      ]
    },
    {
      "cell_type": "markdown",
      "metadata": {
        "id": "h9X33m5IXCQg"
      },
      "source": [
        "### Try to predict"
      ]
    },
    {
      "cell_type": "code",
      "metadata": {
        "id": "0AndRjZUzPqK",
        "colab": {
          "base_uri": "https://localhost:8080/",
          "height": 384
        },
        "outputId": "5d64a87a-0dca-44a5-bd10-4b927856c9b7"
      },
      "source": [
        "predict(model, [\"good people\"])\n"
      ],
      "execution_count": 28,
      "outputs": [
        {
          "output_type": "stream",
          "text": [
            "texts: ['good people']\n",
            "tokenized_texts: [[90, 111]]\n",
            "padded_texts: [[ 90 111   0   0   0   0   0   0   0   0   0   0   0   0   0]]\n",
            "predicted: [[1.3792946e-04 9.4458139e-01 5.5280693e-02]]\n",
            "predicted class: [1]\n"
          ],
          "name": "stdout"
        },
        {
          "output_type": "display_data",
          "data": {
            "image/png": "[encoded data removed]",
            "text/plain": [
              "<Figure size 432x288 with 1 Axes>"
            ]
          },
          "metadata": {
            "tags": [],
            "needs_background": "light"
          }
        }
      ]
    },
    {
      "cell_type": "markdown",
      "metadata": {
        "id": "F7D9O-d3YvU8"
      },
      "source": [
        "### Evaluation"
      ]
    },
    {
      "cell_type": "code",
      "metadata": {
        "id": "_4hLpsxdYywD",
        "colab": {
          "base_uri": "https://localhost:8080/"
        },
        "outputId": "d902a3bc-0bb2-4789-a986-f2583f47ac27"
      },
      "source": [
        "evaluate_model(model)"
      ],
      "execution_count": 34,
      "outputs": [
        {
          "output_type": "stream",
          "text": [
            "Evaluate on test data\n",
            "1430/1430 [==============================] - 9s 6ms/step - loss: 3.5346 - accuracy: 0.7698\n"
          ],
          "name": "stdout"
        }
      ]
    }
  ]
}