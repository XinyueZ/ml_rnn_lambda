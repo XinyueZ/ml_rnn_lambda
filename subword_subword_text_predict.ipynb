{
 "cells": [
  {
   "source": [
    "# RNN \"Many-2-Many\" use-case. \n",
    "\n",
    "## Run sequences-sequences based on char (char in word, or subword).\n",
    "\n",
    "### Dataset layout\n",
    "\n",
    "#### Window 0:\n",
    "\n",
    "```python\n",
    "Sample: \"Hello,world\"\n",
    "Label: \"ello,world\"\n",
    "```\n",
    "\n",
    "#### Window 1:\n",
    "\n",
    "```python\n",
    "Sample: \"ello,world\"\n",
    "Label: \"llo,world\"\n",
    "```\n",
    "...."
   ],
   "cell_type": "markdown",
   "metadata": {
    "id": "zX4Kg8DUTKWO"
   }
  },
  {
   "cell_type": "code",
   "execution_count": 1956,
   "metadata": {
    "id": "BOwsuGQQY9OL"
   },
   "outputs": [],
   "source": [
    "import tensorflow as tf\n",
    "\n",
    "from tensorflow.keras.preprocessing.sequence import pad_sequences\n",
    "from tensorflow.keras.layers import Embedding, LSTM, Dense, Bidirectional, GRU, Conv1D\n",
    "from tensorflow.keras.preprocessing.text import Tokenizer\n",
    "from tensorflow.keras.models import Sequential\n",
    "from tensorflow.keras.optimizers import Adam\n",
    "import numpy as np \n",
    "import pprint as pp"
   ]
  },
  {
   "cell_type": "code",
   "execution_count": 1957,
   "metadata": {
    "colab": {
     "base_uri": "https://localhost:8080/"
    },
    "id": "PRnDnCW-Z7qv",
    "outputId": "0bf515ac-5abc-4f8e-9a3a-e86176fed0bd"
   },
   "outputs": [
    {
     "output_type": "stream",
     "name": "stdout",
     "text": [
      "In the town of Athy one Jeremy Lanigan \n Battered away til he hadnt a pound. \nHis father died and made him a man again \n Left him a farm and ten acres of ground. \nHe gave a grand party for friends and relations \nWho didnt forget him when come to the wall, \nAnd if youll but listen Ill make your eyes glisten \nOf the rows and the ructions of Lanigans Ball. \nMyself to be sure got free invitation, \nFor all the nice girls and boys I might ask, \nAnd just in a minute both friends and relations \nWere dancing round merry as bees round a cask. \nJudy ODaly, that nice little milliner, \nShe tipped me a wink for to give her a call, \nAnd I soon arrived with Peggy McGilligan \nJust in time for Lanigans Ball. \nThere were lashings of punch and wine for the ladies, \nPotatoes and cakes; there was bacon and tea, \nThere were the Nolans, Dolans, OGradys \nCourting the girls and dancing away. \nSongs they went round as plenty as water, \nThe harp that once sounded in Taras old hall,\nSweet Nelly Gray and The Rat Catchers Daughter,\nAll singing together at Lanigans Ball. \nThey were doing all kinds of nonsensical polkas \nAll round the room in a whirligig. \nJulia and I, we banished their nonsense \nAnd tipped them the twist of a reel and a jig. \nAch mavrone, how the girls got all mad at me \nDanced til youd think the ceiling would fall. \nFor I spent three weeks at Brooks Academy \nLearning new steps for Lanigans Ball. \nThree long weeks I spent up in Dublin, \nThree long weeks to learn nothing at all,\n Three long weeks I spent up in Dublin, \nLearning new steps for Lanigans Ball. \nShe stepped out and I stepped in again, \nI stepped out and she stepped in again, \nShe stepped out and I stepped in again, \nLearning new steps for Lanigans Ball. \nBoys were all merry and the girls they were hearty \nAnd danced all around in couples and groups, \nTil an accident happened, young Terrance McCarthy \nPut his right leg through miss Finnertys hoops. \nPoor creature fainted and cried Meelia murther, \nCalled for her brothers and gathered them all. \nCarmody swore that hed go no further \nTil he had satisfaction at Lanigans Ball. \nIn the midst of the row miss Kerrigan fainted, \nHer cheeks at the same time as red as a rose. \nSome of the lads declared she was painted, \nShe took a small drop too much, I suppose. \nHer sweetheart, Ned Morgan, so powerful and able, \nWhen he saw his fair colleen stretched out by the wall, \nTore the left leg from under the table \nAnd smashed all the Chaneys at Lanigans Ball. \nBoys, oh boys, twas then there were runctions. \nMyself got a lick from big Phelim McHugh. \nI soon replied to his introduction \nAnd kicked up a terrible hullabaloo. \nOld Casey, the piper, was near being strangled. \nThey squeezed up his pipes, bellows, chanters and all. \nThe girls, in their ribbons, they got all entangled \nAnd that put an end to Lanigans Ball.\n"
     ]
    }
   ],
   "source": [
    "tokenizer = Tokenizer(split='\\n', char_level=False) # Subword-2-Subword, char-2-char, but we keep using word based tokenizer for using filters further.\n",
    "\n",
    "data= \"In the town of Athy one Jeremy Lanigan \\n Battered away til he hadnt a pound. \\nHis father died and made him a man again \\n Left him a farm and ten acres of ground. \\nHe gave a grand party for friends and relations \\nWho didnt forget him when come to the wall, \\nAnd if youll but listen Ill make your eyes glisten \\nOf the rows and the ructions of Lanigans Ball. \\nMyself to be sure got free invitation, \\nFor all the nice girls and boys I might ask, \\nAnd just in a minute both friends and relations \\nWere dancing round merry as bees round a cask. \\nJudy ODaly, that nice little milliner, \\nShe tipped me a wink for to give her a call, \\nAnd I soon arrived with Peggy McGilligan \\nJust in time for Lanigans Ball. \\nThere were lashings of punch and wine for the ladies, \\nPotatoes and cakes; there was bacon and tea, \\nThere were the Nolans, Dolans, OGradys \\nCourting the girls and dancing away. \\nSongs they went round as plenty as water, \\nThe harp that once sounded in Taras old hall,\\nSweet Nelly Gray and The Rat Catchers Daughter,\\nAll singing together at Lanigans Ball. \\nThey were doing all kinds of nonsensical polkas \\nAll round the room in a whirligig. \\nJulia and I, we banished their nonsense \\nAnd tipped them the twist of a reel and a jig. \\nAch mavrone, how the girls got all mad at me \\nDanced til youd think the ceiling would fall. \\nFor I spent three weeks at Brooks Academy \\nLearning new steps for Lanigans Ball. \\nThree long weeks I spent up in Dublin, \\nThree long weeks to learn nothing at all,\\n Three long weeks I spent up in Dublin, \\nLearning new steps for Lanigans Ball. \\nShe stepped out and I stepped in again, \\nI stepped out and she stepped in again, \\nShe stepped out and I stepped in again, \\nLearning new steps for Lanigans Ball. \\nBoys were all merry and the girls they were hearty \\nAnd danced all around in couples and groups, \\nTil an accident happened, young Terrance McCarthy \\nPut his right leg through miss Finnertys hoops. \\nPoor creature fainted and cried Meelia murther, \\nCalled for her brothers and gathered them all. \\nCarmody swore that hed go no further \\nTil he had satisfaction at Lanigans Ball. \\nIn the midst of the row miss Kerrigan fainted, \\nHer cheeks at the same time as red as a rose. \\nSome of the lads declared she was painted, \\nShe took a small drop too much, I suppose. \\nHer sweetheart, Ned Morgan, so powerful and able, \\nWhen he saw his fair colleen stretched out by the wall, \\nTore the left leg from under the table \\nAnd smashed all the Chaneys at Lanigans Ball. \\nBoys, oh boys, twas then there were runctions. \\nMyself got a lick from big Phelim McHugh. \\nI soon replied to his introduction \\nAnd kicked up a terrible hullabaloo. \\nOld Casey, the piper, was near being strangled. \\nThey squeezed up his pipes, bellows, chanters and all. \\nThe girls, in their ribbons, they got all entangled \\nAnd that put an end to Lanigans Ball.\"\n",
    " \n",
    "print(data)\n"
   ]
  },
  {
   "cell_type": "code",
   "execution_count": 1958,
   "metadata": {
    "colab": {
     "base_uri": "https://localhost:8080/"
    },
    "id": "Ng_DWi4i-3or",
    "outputId": "9d30b5b3-2d52-4cca-827e-4a2a6df59975"
   },
   "outputs": [
    {
     "output_type": "stream",
     "name": "stdout",
     "text": [
      "27\n{' ': 1, 'e': 2, 'a': 3, 'n': 4, 't': 5, 'i': 6, 'l': 7, 's': 8, 'r': 9, 'o': 10, 'h': 11, 'd': 12, 'g': 13, 'p': 14, 'u': 15, 'c': 16, 'w': 17, 'm': 18, 'f': 19, 'y': 20, 'b': 21, 'k': 22, 'j': 23, 'v': 24, 'q': 25, 'z': 26}\n"
     ]
    }
   ],
   "source": [
    "\n",
    "tokenizer.fit_on_texts(data)\n",
    "total_words = len(tokenizer.word_index) + 1\n",
    "print(total_words)\n",
    "print(tokenizer.word_index)\n"
   ]
  },
  {
   "cell_type": "code",
   "execution_count": 1959,
   "metadata": {
    "colab": {
     "base_uri": "https://localhost:8080/"
    },
    "id": "pJtwVB2NbOAP",
    "outputId": "1b984ffb-e216-4788-cc7a-1f2ae603c967"
   },
   "outputs": [
    {
     "output_type": "stream",
     "name": "stdout",
     "text": [
      "6\n5\n17\n"
     ]
    }
   ],
   "source": [
    "print(tokenizer.word_index['i'])\n",
    "print(tokenizer.word_index['t'])\n",
    "print(tokenizer.word_index['w']) \n"
   ]
  },
  {
   "cell_type": "code",
   "execution_count": 1960,
   "metadata": {},
   "outputs": [],
   "source": [
    "def flat_list(l): return sum(l, [])"
   ]
  },
  {
   "cell_type": "code",
   "execution_count": 1961,
   "metadata": {
    "id": "76tMHbMqSQu-",
    "tags": []
   },
   "outputs": [
    {
     "output_type": "stream",
     "name": "stdout",
     "text": [
      "In the tow\n[[6], [4], [1], [5], [11], [2], [1], [5], [10], [17]]\n[6, 4, 1, 5, 11, 2, 1, 5, 10, 17]\n"
     ]
    }
   ],
   "source": [
    "print(data[:10])\n",
    "\n",
    "input_sequences = tokenizer.texts_to_sequences(data)\n",
    "print(input_sequences[:10]) \n",
    "# texts_to_sequences returns a list X list.\n",
    "input_sequences = flat_list(input_sequences) \n",
    "print(input_sequences[:10])"
   ]
  },
  {
   "cell_type": "code",
   "execution_count": 1962,
   "metadata": {
    "colab": {
     "base_uri": "https://localhost:8080/"
    },
    "id": "18Nrs3zmH5oz",
    "outputId": "51b70c5f-03e9-4053-e939-6dcf489708af",
    "tags": []
   },
   "outputs": [
    {
     "output_type": "stream",
     "name": "stdout",
     "text": [
      "[[ 6]\n [ 4]\n [ 1]\n [ 5]\n [11]\n [ 2]\n [ 1]\n [ 5]\n [10]\n [17]]\n(<tf.Tensor: shape=(1, 10, 1), dtype=int64, numpy=\narray([[[ 6],\n        [ 4],\n        [ 1],\n        [ 5],\n        [11],\n        [ 2],\n        [ 1],\n        [ 5],\n        [10],\n        [17]]])>, <tf.Tensor: shape=(1, 10, 1), dtype=int64, numpy=\narray([[[ 4],\n        [ 1],\n        [ 5],\n        [11],\n        [ 2],\n        [ 1],\n        [ 5],\n        [10],\n        [17],\n        [ 4]]])>)\n\n(<tf.Tensor: shape=(1, 10, 1), dtype=int64, numpy=\narray([[[ 4],\n        [ 1],\n        [ 5],\n        [11],\n        [ 2],\n        [ 1],\n        [ 5],\n        [10],\n        [17],\n        [ 4]]])>, <tf.Tensor: shape=(1, 10, 1), dtype=int64, numpy=\narray([[[ 1],\n        [ 5],\n        [11],\n        [ 2],\n        [ 1],\n        [ 5],\n        [10],\n        [17],\n        [ 4],\n        [ 1]]])>)\n\n"
     ]
    }
   ],
   "source": [
    "window_size = 11\n",
    "batch_size = 1\n",
    " \n",
    "input_sequences = np.expand_dims(input_sequences, axis=-1)\n",
    "print(input_sequences[:10])\n",
    "\n",
    "dataset = tf.data.Dataset.from_tensor_slices(input_sequences)\n",
    "dataset = dataset.window(window_size, 1, 1, True)\n",
    "dataset = dataset.flat_map(lambda window: window.batch(window_size).map(lambda x: (x[:-1], x[1:])))\n",
    "dataset = dataset.batch(batch_size, drop_remainder=True)\n",
    "\n",
    "for item in dataset.take(2):\n",
    "  print(item)\n",
    "  print()\n"
   ]
  },
  {
   "cell_type": "code",
   "execution_count": 1963,
   "metadata": {
    "id": "Y6GZ6LmJdVtt"
   },
   "outputs": [],
   "source": [
    "epochs = 150\n",
    "units = 64\n",
    "embeding_dim = 225 \n"
   ]
  },
  {
   "cell_type": "code",
   "execution_count": 1964,
   "metadata": {
    "id": "pN6RryxGtkH0"
   },
   "outputs": [],
   "source": [
    "class StopCallback(tf.keras.callbacks.Callback):\n",
    "  def on_epoch_end(self, epoch, logs={}):\n",
    "    self.model.reset_states()\n",
    "    #if float(logs.get('loss')) < 0.38:\n",
    "      #print(\"\\n[mae={}, loss={}]\".format(logs.get('mae'), logs.get('loss')))\n",
    "      #self.model.stop_training = True\n",
    "stopCallback = StopCallback()\n"
   ]
  },
  {
   "cell_type": "code",
   "execution_count": 1965,
   "metadata": {},
   "outputs": [],
   "source": [
    "def plot(history):\n",
    "  import matplotlib.pyplot as plt\n",
    "  \n",
    "  acc = history.history['accuracy']\n",
    "  loss = history.history['loss']\n",
    "\n",
    "  epochs = range(len(acc))\n",
    "\n",
    "  plt.plot(epochs, acc, 'b', label='Training accuracy')\n",
    "  plt.title('Training accuracy')\n",
    "\n",
    "  plt.figure()\n",
    "\n",
    "  plt.plot(epochs, loss, 'b', label='Training Loss')\n",
    "  plt.title('Training loss')\n",
    "  plt.legend()\n",
    "\n",
    "  plt.show()\n",
    "  "
   ]
  },
  {
   "cell_type": "code",
   "execution_count": 1966,
   "metadata": {
    "id": "89qecBi_Ypou"
   },
   "outputs": [],
   "source": [
    "def build_model(*layers):\n",
    "  tf.keras.backend.clear_session()\n",
    "  tf.random.set_seed(51)\n",
    "  np.random.seed(51)\n",
    "\n",
    "  model = Sequential()\n",
    "  model.add(Embedding(total_words, embeding_dim, input_length=window_size - 1, batch_input_shape=[1, None]))\n",
    "  [model.add(layer) for layer in layers]\n",
    "  model.add(Dense(total_words / 2, \n",
    "                  activation=tf.keras.activations.relu,\n",
    "                  kernel_regularizer=tf.keras.regularizers.l2(0.01)))\n",
    "  model.add(Dense(total_words, activation=tf.keras.activations.softmax))\n",
    "\n",
    "  # Use SparseCategoricalCrossentropy, cause we are not using one-hot based label\n",
    "  # https://stats.stackexchange.com/questions/326065/cross-entropy-vs-sparse-cross-entropy-when-to-use-one-over-the-other\n",
    "  model.compile(loss=tf.keras.losses.SparseCategoricalCrossentropy(), optimizer=tf.keras.optimizers.Adam(), metrics=['accuracy'])\n",
    "  print(model.summary())\n",
    "\n",
    "  if len(layers) != 0:\n",
    "    history = model.fit(dataset, epochs=epochs, verbose=1, callbacks=[stopCallback])\n",
    "\n",
    "    weights = model.layers[0].get_weights()[0]\n",
    "    print(weights.shape)\n",
    "\n",
    "    plot(history)\n",
    "\n",
    "  return model\n"
   ]
  },
  {
   "cell_type": "code",
   "execution_count": 1967,
   "metadata": {},
   "outputs": [],
   "source": [
    "def predict_with_model(name, model, start_words=\"I\", next_words=100):\n",
    "  seed_text = start_words\n",
    "    \n",
    "  for _ in range(next_words):\n",
    "    token_list = tokenizer.texts_to_sequences(seed_text)  \n",
    "    token_list = token_list = np.expand_dims(token_list, axis=0)\n",
    "\n",
    "    if next_words == 1:\n",
    "      print(\"token_list: {}\".format(token_list))   \n",
    "\n",
    "    predicted = model.predict(token_list)\n",
    "    predicted_token_list = np.argmax(predicted, axis=-1)[0] \n",
    "    predicted_token_list = np.expand_dims(predicted_token_list, axis=1)\n",
    "\n",
    "    if next_words == 1:\n",
    "      print(\"predicted_token_list: {}\".format(predicted_token_list))\n",
    "\n",
    "    output_word = tokenizer.sequences_to_texts(predicted_token_list) \n",
    "    output_word = \"\".join(output_word)\n",
    "\n",
    "    if next_words == 1:\n",
    "      print(\"output_word: {}\".format(output_word))\n",
    "\n",
    "    seed_text += \" \" + output_word\n",
    "  \n",
    "  print(\"------------------------------\")\n",
    "  print(name)\n",
    "  print(seed_text)  \n",
    "  print(\"------------------------------\")\n"
   ]
  },
  {
   "cell_type": "code",
   "execution_count": 1968,
   "metadata": {
    "tags": []
   },
   "outputs": [
    {
     "output_type": "stream",
     "name": "stdout",
     "text": [
      "Model: \"sequential\"\n",
      "_________________________________________________________________\n",
      "Layer (type)                 Output Shape              Param #   \n",
      "=================================================================\n",
      "embedding (Embedding)        (1, None, 225)            6075      \n",
      "_________________________________________________________________\n",
      "dense (Dense)                (1, None, 13)             2938      \n",
      "_________________________________________________________________\n",
      "dense_1 (Dense)              (1, None, 27)             378       \n",
      "=================================================================\n",
      "Total params: 9,391\n",
      "Trainable params: 9,391\n",
      "Non-trainable params: 0\n",
      "_________________________________________________________________\n",
      "None\n",
      "token_list: [[[ 6]\n",
      "  [ 4]\n",
      "  [ 1]\n",
      "  [ 5]\n",
      "  [11]\n",
      "  [ 2]\n",
      "  [ 1]\n",
      "  [ 5]\n",
      "  [10]\n",
      "  [17]\n",
      "  [ 4]]]\n",
      "WARNING:tensorflow:11 out of the last 11 calls to <function Model.make_predict_function.<locals>.predict_function at 0x16a979c10> triggered tf.function retracing. Tracing is expensive and the excessive number of tracings could be due to (1) creating @tf.function repeatedly in a loop, (2) passing tensors with different shapes, (3) passing Python objects instead of tensors. For (1), please define your @tf.function outside of the loop. For (2), @tf.function has experimental_relax_shapes=True option that relaxes argument shapes that can avoid unnecessary retracing. For (3), please refer to https://www.tensorflow.org/guide/function#controlling_retracing and https://www.tensorflow.org/api_docs/python/tf/function for  more details.\n",
      "predicted_token_list: [[17]\n",
      " [15]\n",
      " [ 4]\n",
      " [17]\n",
      " [ 4]\n",
      " [ 2]\n",
      " [ 4]\n",
      " [17]\n",
      " [20]\n",
      " [ 1]\n",
      " [15]]\n",
      "output_word: wunwnenwy u\n",
      "------------------------------\n",
      "Preview\n",
      "In the town wunwnenwy u\n",
      "------------------------------\n"
     ]
    }
   ],
   "source": [
    "predict_with_model(\"Preview\", \n",
    "                    build_model(), \n",
    "                    start_words=\"In the town\",\n",
    "                    next_words=1)"
   ]
  },
  {
   "cell_type": "code",
   "execution_count": null,
   "metadata": {
    "colab": {
     "base_uri": "https://localhost:8080/",
     "height": 1000
    },
    "id": "w9vH8Y59ajYL",
    "outputId": "ad3f855d-cf19-4e59-c76f-7da0bd8a60c5",
    "tags": []
   },
   "outputs": [],
   "source": [
    "model = build_model(LSTM(units, return_sequences=True, stateful=True))\n",
    "predict_with_model(\"LSTM\", \n",
    "                    model,\n",
    "                    start_words=\"I went to Shanghai\",\n",
    "                    next_words=10)\n"
   ]
  },
  {
   "cell_type": "code",
   "execution_count": null,
   "metadata": {
    "colab": {
     "base_uri": "https://localhost:8080/",
     "height": 1000
    },
    "id": "IKtKB3AvcAfw",
    "outputId": "cf6ffff9-2d4d-403c-aa48-5c0a9d004855",
    "tags": []
   },
   "outputs": [],
   "source": [
    "model = build_model(Bidirectional(LSTM(units, return_sequences=True, stateful=True)),\n",
    "    LSTM(units, return_sequences=True, stateful=True))\n",
    "predict_with_model(\"Bi-LSTM\", \n",
    "                    model,                    \n",
    "                    start_words=\"I went to Shanghai\",\n",
    "                    next_words=10)\n"
   ]
  },
  {
   "cell_type": "code",
   "execution_count": null,
   "metadata": {
    "colab": {
     "base_uri": "https://localhost:8080/",
     "height": 1000
    },
    "id": "CaSDd8FMcO3c",
    "outputId": "cceb9027-5886-41fc-e947-f0c6ab3c7c48"
   },
   "outputs": [],
   "source": [
    "model = build_model(Bidirectional(LSTM(units, return_sequences=True, stateful=True)),\n",
    "    Bidirectional(LSTM(units, return_sequences=True, stateful=True)),\n",
    "    LSTM(units, return_sequences=True, stateful=True))\n",
    "predict_with_model(\"2 X Bi-LSTM\", \n",
    "                    model,                    \n",
    "                    start_words=\"I went to Shanghai\",\n",
    "                    next_words=10)\n"
   ]
  },
  {
   "cell_type": "code",
   "execution_count": null,
   "metadata": {
    "colab": {
     "base_uri": "https://localhost:8080/",
     "height": 1000
    },
    "id": "spFU-Ux8calm",
    "outputId": "887670f0-f79b-42a5-b909-25186e443cc8"
   },
   "outputs": [],
   "source": [
    "model = build_model(GRU(units, return_sequences=True, stateful=True))\n",
    "predict_with_model(\"GRU\", \n",
    "                    model,                    \n",
    "                    start_words=\"I went to Shanghai\",\n",
    "                    next_words=10)\n"
   ]
  },
  {
   "cell_type": "code",
   "execution_count": null,
   "metadata": {
    "colab": {
     "base_uri": "https://localhost:8080/",
     "height": 1000
    },
    "id": "QBf5nQZucjF0",
    "outputId": "de564b47-ece8-49bc-b91f-462781821739"
   },
   "outputs": [],
   "source": [
    "model  = build_model(Bidirectional(GRU(units, return_sequences=True, stateful=True)),\n",
    "    GRU(units, return_sequences=True, stateful=True))\n",
    "predict_with_model(\"Bi-GRU\", \n",
    "                    model,                    \n",
    "                    start_words=\"I went to Shanghai\",\n",
    "                    next_words=10)\n"
   ]
  },
  {
   "cell_type": "code",
   "execution_count": null,
   "metadata": {
    "colab": {
     "base_uri": "https://localhost:8080/",
     "height": 1000
    },
    "id": "gJ6VBWvwcvb3",
    "outputId": "1d9fc969-b344-4c11-b482-68ddaf6ee6e0"
   },
   "outputs": [],
   "source": [
    "model = build_model(Bidirectional(GRU(units, return_sequences=True, stateful=True)),\n",
    "    Bidirectional(GRU(units, return_sequences=True, stateful=True)),\n",
    "    GRU(units, return_sequences=True, stateful=True))\n",
    "predict_with_model(\"2 X Bi-GRU\", \n",
    "                    model,                    \n",
    "                    start_words=\"I went to Shanghai\",\n",
    "                    next_words=10)\n"
   ]
  }
 ],
 "metadata": {
  "accelerator": "TPU",
  "colab": {
   "collapsed_sections": [],
   "name": "“Course 3 - Week 4 - Lesson 1 (word-word seq-seq) - Notebook.ipynb”的副本",
   "provenance": []
  },
  "kernelspec": {
   "display_name": "Python 3",
   "language": "python",
   "name": "python3"
  },
  "language_info": {
   "codemirror_mode": {
    "name": "ipython",
    "version": 3
   },
   "file_extension": ".py",
   "mimetype": "text/x-python",
   "name": "python",
   "nbconvert_exporter": "python",
   "pygments_lexer": "ipython3",
   "version": "3.8.2-final"
  }
 },
 "nbformat": 4,
 "nbformat_minor": 1
}